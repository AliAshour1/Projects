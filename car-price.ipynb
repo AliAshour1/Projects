{
 "cells": [
  {
   "cell_type": "code",
   "execution_count": 1,
   "id": "c651d29f",
   "metadata": {
    "_cell_guid": "b1076dfc-b9ad-4769-8c92-a6c4dae69d19",
    "_uuid": "8f2839f25d086af736a60e9eeb907d3b93b6e0e5",
    "execution": {
     "iopub.execute_input": "2022-05-26T20:25:42.295919Z",
     "iopub.status.busy": "2022-05-26T20:25:42.295142Z",
     "iopub.status.idle": "2022-05-26T20:25:42.319889Z",
     "shell.execute_reply": "2022-05-26T20:25:42.319238Z"
    },
    "papermill": {
     "duration": 0.112249,
     "end_time": "2022-05-26T20:25:42.322342",
     "exception": false,
     "start_time": "2022-05-26T20:25:42.210093",
     "status": "completed"
    },
    "tags": []
   },
   "outputs": [
    {
     "name": "stdout",
     "output_type": "stream",
     "text": [
      "/kaggle/input/car-price-prediction/CarPrice_Assignment.csv\n",
      "/kaggle/input/car-price-prediction/Data Dictionary - carprices.xlsx\n"
     ]
    }
   ],
   "source": [
    "# This Python 3 environment comes with many helpful analytics libraries installed\n",
    "# It is defined by the kaggle/python Docker image: https://github.com/kaggle/docker-python\n",
    "# For example, here's several helpful packages to load\n",
    "\n",
    "import numpy as np # linear algebra\n",
    "import pandas as pd # data processing, CSV file I/O (e.g. pd.read_csv)\n",
    "\n",
    "# Input data files are available in the read-only \"../input/\" directory\n",
    "# For example, running this (by clicking run or pressing Shift+Enter) will list all files under the input directory\n",
    "\n",
    "import os\n",
    "for dirname, _, filenames in os.walk('/kaggle/input'):\n",
    "    for filename in filenames:\n",
    "        print(os.path.join(dirname, filename))\n",
    "\n",
    "# You can write up to 20GB to the current directory (/kaggle/working/) that gets preserved as output when you create a version using \"Save & Run All\" \n",
    "# You can also write temporary files to /kaggle/temp/, but they won't be saved outside of the current session"
   ]
  },
  {
   "cell_type": "markdown",
   "id": "e8bd8e9a",
   "metadata": {
    "papermill": {
     "duration": 0.082254,
     "end_time": "2022-05-26T20:25:42.489086",
     "exception": false,
     "start_time": "2022-05-26T20:25:42.406832",
     "status": "completed"
    },
    "tags": []
   },
   "source": [
    "![](https://images.unsplash.com/photo-1568605117036-5fe5e7bab0b7?crop=entropy&cs=tinysrgb&fm=jpg&ixlib=rb-1.2.1&q=80&raw_url=true&ixid=MnwxMjA3fDB8MHxwaG90by1wYWdlfHx8fGVufDB8fHx8&auto=format&fit=crop&w=1170)"
   ]
  },
  {
   "cell_type": "markdown",
   "id": "a8734a17",
   "metadata": {
    "papermill": {
     "duration": 0.081358,
     "end_time": "2022-05-26T20:25:42.653700",
     "exception": false,
     "start_time": "2022-05-26T20:25:42.572342",
     "status": "completed"
    },
    "tags": []
   },
   "source": [
    " <h1 style=\"background-color:#99ccff\n",
    ";font-family:newtimeroman;font-size:225%;text-align:center;border-radius: 15px 50px;\">  UK Used Cars EDA , Analyse , Visualization , modeling 🚗</h1><a id=0></a>\n",
    " \n",
    " ### Our work flow is :\n",
    "\n",
    " #  [1.  Car EDA and Analysis](#1)\n",
    " \n",
    "   [1.1 Importing the data:](#1.1)\n",
    "   \n",
    "   [1.2 Descipe the data:](#1.2)\n",
    "   \n",
    "   [1.3 Exploratory Data Analysis:](#1.3)\n",
    "   \n",
    "   [1.4  statistical summary:](#1.4)\n",
    "   \n",
    "   [1.5  data preparation and cleaning :](#1.5)\n",
    "   \n",
    "   \n",
    "   \n",
    " #  [2. Exploration for the data and Visualization ](#2)\n",
    " \n",
    "   [2.1 Checking what is the most popular company:](#2.1)\n",
    "   \n",
    "   [2.2 Checking most popular model for each car copmany :](#2.2)\n",
    "   \n",
    "   [2.3 Checking which transmission is more popular](#2.3)\n",
    "   \n",
    "   [2.4 Checking which fuel type is more popular](#2.4)\n",
    "  \n",
    "   [2.5 Checking carbody is more popula](#2.5)\n",
    "   \n",
    "   [2.6 Checking relation between varaibles](#2.6)\n",
    "   \n",
    "   [2.7 Checking Variable Distribution](#2.7)\n",
    "   \n",
    "   [2.8 Summary of the analyse](#2.8)"
   ]
  },
  {
   "cell_type": "markdown",
   "id": "c18c1b7b",
   "metadata": {
    "papermill": {
     "duration": 0.081491,
     "end_time": "2022-05-26T20:25:42.816938",
     "exception": false,
     "start_time": "2022-05-26T20:25:42.735447",
     "status": "completed"
    },
    "tags": []
   },
   "source": [
    "### ****import necessary libraries****"
   ]
  },
  {
   "cell_type": "code",
   "execution_count": 2,
   "id": "22b2fbcb",
   "metadata": {
    "execution": {
     "iopub.execute_input": "2022-05-26T20:25:42.983716Z",
     "iopub.status.busy": "2022-05-26T20:25:42.982887Z",
     "iopub.status.idle": "2022-05-26T20:25:45.366231Z",
     "shell.execute_reply": "2022-05-26T20:25:45.365376Z"
    },
    "papermill": {
     "duration": 2.46972,
     "end_time": "2022-05-26T20:25:45.368710",
     "exception": false,
     "start_time": "2022-05-26T20:25:42.898990",
     "status": "completed"
    },
    "tags": []
   },
   "outputs": [],
   "source": [
    "import numpy as np\n",
    "import pandas as pd \n",
    "import matplotlib.pyplot as plt\n",
    "import seaborn as sns \n",
    "import plotly.express as px\n",
    "import sklearn \n",
    "import warnings\n",
    "warnings.filterwarnings('ignore')\n",
    "\n"
   ]
  },
  {
   "cell_type": "markdown",
   "id": "b96e5e95",
   "metadata": {
    "papermill": {
     "duration": 0.081722,
     "end_time": "2022-05-26T20:25:45.531915",
     "exception": false,
     "start_time": "2022-05-26T20:25:45.450193",
     "status": "completed"
    },
    "tags": []
   },
   "source": [
    "### import Dataset  "
   ]
  },
  {
   "cell_type": "code",
   "execution_count": 3,
   "id": "6d466a88",
   "metadata": {
    "execution": {
     "iopub.execute_input": "2022-05-26T20:25:45.698571Z",
     "iopub.status.busy": "2022-05-26T20:25:45.697827Z",
     "iopub.status.idle": "2022-05-26T20:25:45.722748Z",
     "shell.execute_reply": "2022-05-26T20:25:45.722056Z"
    },
    "papermill": {
     "duration": 0.110291,
     "end_time": "2022-05-26T20:25:45.725089",
     "exception": false,
     "start_time": "2022-05-26T20:25:45.614798",
     "status": "completed"
    },
    "tags": []
   },
   "outputs": [],
   "source": [
    "file = pd.read_csv(\"/kaggle/input/car-price-prediction/CarPrice_Assignment.csv\")\n",
    "df=file.copy()"
   ]
  },
  {
   "cell_type": "code",
   "execution_count": 4,
   "id": "4cf8fb8b",
   "metadata": {
    "execution": {
     "iopub.execute_input": "2022-05-26T20:25:45.892195Z",
     "iopub.status.busy": "2022-05-26T20:25:45.891619Z",
     "iopub.status.idle": "2022-05-26T20:25:58.616963Z",
     "shell.execute_reply": "2022-05-26T20:25:58.615673Z"
    },
    "papermill": {
     "duration": 12.811117,
     "end_time": "2022-05-26T20:25:58.619171",
     "exception": false,
     "start_time": "2022-05-26T20:25:45.808054",
     "status": "completed"
    },
    "tags": []
   },
   "outputs": [
    {
     "name": "stdout",
     "output_type": "stream",
     "text": [
      "Collecting openpyxl\r\n",
      "  Downloading openpyxl-3.0.10-py2.py3-none-any.whl (242 kB)\r\n",
      "\u001b[2K     \u001b[90m━━━━━━━━━━━━━━━━━━━━━━━━━━━━━━━━━━━━━━━\u001b[0m \u001b[32m242.1/242.1 KB\u001b[0m \u001b[31m5.1 MB/s\u001b[0m eta \u001b[36m0:00:00\u001b[0m\r\n",
      "\u001b[?25hCollecting et-xmlfile\r\n",
      "  Downloading et_xmlfile-1.1.0-py3-none-any.whl (4.7 kB)\r\n",
      "Installing collected packages: et-xmlfile, openpyxl\r\n",
      "Successfully installed et-xmlfile-1.1.0 openpyxl-3.0.10\r\n",
      "\u001b[33mWARNING: Running pip as the 'root' user can result in broken permissions and conflicting behaviour with the system package manager. It is recommended to use a virtual environment instead: https://pip.pypa.io/warnings/venv\u001b[0m\u001b[33m\r\n",
      "\u001b[0mNote: you may need to restart the kernel to use updated packages.\n"
     ]
    }
   ],
   "source": [
    "pip install openpyxl"
   ]
  },
  {
   "cell_type": "markdown",
   "id": "b8ce7a26",
   "metadata": {
    "papermill": {
     "duration": 0.088004,
     "end_time": "2022-05-26T20:25:58.793932",
     "exception": false,
     "start_time": "2022-05-26T20:25:58.705928",
     "status": "completed"
    },
    "tags": []
   },
   "source": [
    "### **load the description of the variables**"
   ]
  },
  {
   "cell_type": "code",
   "execution_count": 5,
   "id": "74915fa7",
   "metadata": {
    "execution": {
     "iopub.execute_input": "2022-05-26T20:25:58.972416Z",
     "iopub.status.busy": "2022-05-26T20:25:58.971663Z",
     "iopub.status.idle": "2022-05-26T20:25:59.413973Z",
     "shell.execute_reply": "2022-05-26T20:25:59.413130Z"
    },
    "papermill": {
     "duration": 0.533325,
     "end_time": "2022-05-26T20:25:59.416082",
     "exception": false,
     "start_time": "2022-05-26T20:25:58.882757",
     "status": "completed"
    },
    "tags": []
   },
   "outputs": [
    {
     "data": {
      "text/html": [
       "<div>\n",
       "<style scoped>\n",
       "    .dataframe tbody tr th:only-of-type {\n",
       "        vertical-align: middle;\n",
       "    }\n",
       "\n",
       "    .dataframe tbody tr th {\n",
       "        vertical-align: top;\n",
       "    }\n",
       "\n",
       "    .dataframe thead th {\n",
       "        text-align: right;\n",
       "    }\n",
       "</style>\n",
       "<table border=\"1\" class=\"dataframe\">\n",
       "  <thead>\n",
       "    <tr style=\"text-align: right;\">\n",
       "      <th></th>\n",
       "      <th>3</th>\n",
       "      <th>4</th>\n",
       "      <th>5</th>\n",
       "      <th>6</th>\n",
       "      <th>7</th>\n",
       "      <th>8</th>\n",
       "      <th>9</th>\n",
       "      <th>10</th>\n",
       "      <th>11</th>\n",
       "      <th>12</th>\n",
       "      <th>...</th>\n",
       "      <th>19</th>\n",
       "      <th>20</th>\n",
       "      <th>21</th>\n",
       "      <th>22</th>\n",
       "      <th>23</th>\n",
       "      <th>24</th>\n",
       "      <th>25</th>\n",
       "      <th>26</th>\n",
       "      <th>27</th>\n",
       "      <th>28</th>\n",
       "    </tr>\n",
       "  </thead>\n",
       "  <tbody>\n",
       "    <tr>\n",
       "      <th>Features</th>\n",
       "      <td>Car_ID</td>\n",
       "      <td>Symboling</td>\n",
       "      <td>carCompany</td>\n",
       "      <td>fueltype</td>\n",
       "      <td>aspiration</td>\n",
       "      <td>doornumber</td>\n",
       "      <td>carbody</td>\n",
       "      <td>drivewheel</td>\n",
       "      <td>enginelocation</td>\n",
       "      <td>wheelbase</td>\n",
       "      <td>...</td>\n",
       "      <td>enginesize</td>\n",
       "      <td>fuelsystem</td>\n",
       "      <td>boreratio</td>\n",
       "      <td>stroke</td>\n",
       "      <td>compressionratio</td>\n",
       "      <td>horsepower</td>\n",
       "      <td>peakrpm</td>\n",
       "      <td>citympg</td>\n",
       "      <td>highwaympg</td>\n",
       "      <td>price(Dependent variable)</td>\n",
       "    </tr>\n",
       "    <tr>\n",
       "      <th>Definition</th>\n",
       "      <td>Unique id of each observation (Interger)</td>\n",
       "      <td>Its assigned insurance risk rating, A value of...</td>\n",
       "      <td>Name of car company (Categorical)</td>\n",
       "      <td>Car fuel type i.e gas or diesel (Categorical)</td>\n",
       "      <td>Aspiration used in a car (Categorical)</td>\n",
       "      <td>Number of doors in a car (Categorical)</td>\n",
       "      <td>body of car (Categorical)</td>\n",
       "      <td>type of drive wheel (Categorical)</td>\n",
       "      <td>Location of car engine (Categorical)</td>\n",
       "      <td>Weelbase of car (Numeric)</td>\n",
       "      <td>...</td>\n",
       "      <td>Size of car (Numeric)</td>\n",
       "      <td>Fuel system of car (Categorical)</td>\n",
       "      <td>Boreratio of car (Numeric)</td>\n",
       "      <td>Stroke or volume inside the engine (Numeric)</td>\n",
       "      <td>compression ratio of car (Numeric)</td>\n",
       "      <td>Horsepower (Numeric)</td>\n",
       "      <td>car peak rpm (Numeric)</td>\n",
       "      <td>Mileage in city (Numeric)</td>\n",
       "      <td>Mileage on highway (Numeric)</td>\n",
       "      <td>Price of car (Numeric)</td>\n",
       "    </tr>\n",
       "  </tbody>\n",
       "</table>\n",
       "<p>2 rows × 26 columns</p>\n",
       "</div>"
      ],
      "text/plain": [
       "                                                  3   \\\n",
       "Features                                      Car_ID   \n",
       "Definition  Unique id of each observation (Interger)   \n",
       "\n",
       "                                                           4   \\\n",
       "Features                                           Symboling    \n",
       "Definition  Its assigned insurance risk rating, A value of...   \n",
       "\n",
       "                                           5   \\\n",
       "Features                           carCompany   \n",
       "Definition  Name of car company (Categorical)   \n",
       "\n",
       "                                                       6   \\\n",
       "Features                                         fueltype   \n",
       "Definition  Car fuel type i.e gas or diesel (Categorical)   \n",
       "\n",
       "                                                7   \\\n",
       "Features                                aspiration   \n",
       "Definition  Aspiration used in a car (Categorical)   \n",
       "\n",
       "                                                8                          9   \\\n",
       "Features                                doornumber                    carbody   \n",
       "Definition  Number of doors in a car (Categorical)  body of car (Categorical)   \n",
       "\n",
       "                                           10  \\\n",
       "Features                           drivewheel   \n",
       "Definition  type of drive wheel (Categorical)   \n",
       "\n",
       "                                              11                         12  \\\n",
       "Features                          enginelocation                  wheelbase   \n",
       "Definition  Location of car engine (Categorical)  Weelbase of car (Numeric)   \n",
       "\n",
       "            ...                     19                                20  \\\n",
       "Features    ...             enginesize                        fuelsystem   \n",
       "Definition  ...  Size of car (Numeric)  Fuel system of car (Categorical)   \n",
       "\n",
       "                                    21  \\\n",
       "Features                     boreratio   \n",
       "Definition  Boreratio of car (Numeric)   \n",
       "\n",
       "                                                      22  \\\n",
       "Features                                          stroke   \n",
       "Definition  Stroke or volume inside the engine (Numeric)   \n",
       "\n",
       "                                            23                    24  \\\n",
       "Features                      compressionratio            horsepower   \n",
       "Definition  compression ratio of car (Numeric)  Horsepower (Numeric)   \n",
       "\n",
       "                                25                         26  \\\n",
       "Features                   peakrpm                    citympg   \n",
       "Definition  car peak rpm (Numeric)  Mileage in city (Numeric)   \n",
       "\n",
       "                                      27                         28  \n",
       "Features                      highwaympg  price(Dependent variable)  \n",
       "Definition  Mileage on highway (Numeric)     Price of car (Numeric)  \n",
       "\n",
       "[2 rows x 26 columns]"
      ]
     },
     "execution_count": 5,
     "metadata": {},
     "output_type": "execute_result"
    }
   ],
   "source": [
    "\n",
    "descrip = pd.read_excel(\"/kaggle/input/car-price-prediction/Data Dictionary - carprices.xlsx\")\n",
    "descrip = descrip.iloc[:, [7,11]]\n",
    "descrip = descrip.dropna()\n",
    "descrip = descrip.rename(columns={'Unnamed: 7': \"Features\", \"Unnamed: 11\": 'Definition'})\n",
    "descrip.T"
   ]
  },
  {
   "cell_type": "markdown",
   "id": "158b182a",
   "metadata": {
    "papermill": {
     "duration": 0.085265,
     "end_time": "2022-05-26T20:25:59.595024",
     "exception": false,
     "start_time": "2022-05-26T20:25:59.509759",
     "status": "completed"
    },
    "tags": []
   },
   "source": [
    "### **Exploratory Data Analysis**"
   ]
  },
  {
   "cell_type": "code",
   "execution_count": 6,
   "id": "2db1a06f",
   "metadata": {
    "execution": {
     "iopub.execute_input": "2022-05-26T20:25:59.768888Z",
     "iopub.status.busy": "2022-05-26T20:25:59.768380Z",
     "iopub.status.idle": "2022-05-26T20:25:59.793030Z",
     "shell.execute_reply": "2022-05-26T20:25:59.792408Z"
    },
    "papermill": {
     "duration": 0.113617,
     "end_time": "2022-05-26T20:25:59.794800",
     "exception": false,
     "start_time": "2022-05-26T20:25:59.681183",
     "status": "completed"
    },
    "tags": []
   },
   "outputs": [
    {
     "data": {
      "text/html": [
       "<div>\n",
       "<style scoped>\n",
       "    .dataframe tbody tr th:only-of-type {\n",
       "        vertical-align: middle;\n",
       "    }\n",
       "\n",
       "    .dataframe tbody tr th {\n",
       "        vertical-align: top;\n",
       "    }\n",
       "\n",
       "    .dataframe thead th {\n",
       "        text-align: right;\n",
       "    }\n",
       "</style>\n",
       "<table border=\"1\" class=\"dataframe\">\n",
       "  <thead>\n",
       "    <tr style=\"text-align: right;\">\n",
       "      <th></th>\n",
       "      <th>car_ID</th>\n",
       "      <th>symboling</th>\n",
       "      <th>CarName</th>\n",
       "      <th>fueltype</th>\n",
       "      <th>aspiration</th>\n",
       "      <th>doornumber</th>\n",
       "      <th>carbody</th>\n",
       "      <th>drivewheel</th>\n",
       "      <th>enginelocation</th>\n",
       "      <th>wheelbase</th>\n",
       "      <th>...</th>\n",
       "      <th>enginesize</th>\n",
       "      <th>fuelsystem</th>\n",
       "      <th>boreratio</th>\n",
       "      <th>stroke</th>\n",
       "      <th>compressionratio</th>\n",
       "      <th>horsepower</th>\n",
       "      <th>peakrpm</th>\n",
       "      <th>citympg</th>\n",
       "      <th>highwaympg</th>\n",
       "      <th>price</th>\n",
       "    </tr>\n",
       "  </thead>\n",
       "  <tbody>\n",
       "    <tr>\n",
       "      <th>0</th>\n",
       "      <td>1</td>\n",
       "      <td>3</td>\n",
       "      <td>alfa-romero giulia</td>\n",
       "      <td>gas</td>\n",
       "      <td>std</td>\n",
       "      <td>two</td>\n",
       "      <td>convertible</td>\n",
       "      <td>rwd</td>\n",
       "      <td>front</td>\n",
       "      <td>88.6</td>\n",
       "      <td>...</td>\n",
       "      <td>130</td>\n",
       "      <td>mpfi</td>\n",
       "      <td>3.47</td>\n",
       "      <td>2.68</td>\n",
       "      <td>9.0</td>\n",
       "      <td>111</td>\n",
       "      <td>5000</td>\n",
       "      <td>21</td>\n",
       "      <td>27</td>\n",
       "      <td>13495.0</td>\n",
       "    </tr>\n",
       "    <tr>\n",
       "      <th>1</th>\n",
       "      <td>2</td>\n",
       "      <td>3</td>\n",
       "      <td>alfa-romero stelvio</td>\n",
       "      <td>gas</td>\n",
       "      <td>std</td>\n",
       "      <td>two</td>\n",
       "      <td>convertible</td>\n",
       "      <td>rwd</td>\n",
       "      <td>front</td>\n",
       "      <td>88.6</td>\n",
       "      <td>...</td>\n",
       "      <td>130</td>\n",
       "      <td>mpfi</td>\n",
       "      <td>3.47</td>\n",
       "      <td>2.68</td>\n",
       "      <td>9.0</td>\n",
       "      <td>111</td>\n",
       "      <td>5000</td>\n",
       "      <td>21</td>\n",
       "      <td>27</td>\n",
       "      <td>16500.0</td>\n",
       "    </tr>\n",
       "    <tr>\n",
       "      <th>2</th>\n",
       "      <td>3</td>\n",
       "      <td>1</td>\n",
       "      <td>alfa-romero Quadrifoglio</td>\n",
       "      <td>gas</td>\n",
       "      <td>std</td>\n",
       "      <td>two</td>\n",
       "      <td>hatchback</td>\n",
       "      <td>rwd</td>\n",
       "      <td>front</td>\n",
       "      <td>94.5</td>\n",
       "      <td>...</td>\n",
       "      <td>152</td>\n",
       "      <td>mpfi</td>\n",
       "      <td>2.68</td>\n",
       "      <td>3.47</td>\n",
       "      <td>9.0</td>\n",
       "      <td>154</td>\n",
       "      <td>5000</td>\n",
       "      <td>19</td>\n",
       "      <td>26</td>\n",
       "      <td>16500.0</td>\n",
       "    </tr>\n",
       "    <tr>\n",
       "      <th>3</th>\n",
       "      <td>4</td>\n",
       "      <td>2</td>\n",
       "      <td>audi 100 ls</td>\n",
       "      <td>gas</td>\n",
       "      <td>std</td>\n",
       "      <td>four</td>\n",
       "      <td>sedan</td>\n",
       "      <td>fwd</td>\n",
       "      <td>front</td>\n",
       "      <td>99.8</td>\n",
       "      <td>...</td>\n",
       "      <td>109</td>\n",
       "      <td>mpfi</td>\n",
       "      <td>3.19</td>\n",
       "      <td>3.40</td>\n",
       "      <td>10.0</td>\n",
       "      <td>102</td>\n",
       "      <td>5500</td>\n",
       "      <td>24</td>\n",
       "      <td>30</td>\n",
       "      <td>13950.0</td>\n",
       "    </tr>\n",
       "    <tr>\n",
       "      <th>4</th>\n",
       "      <td>5</td>\n",
       "      <td>2</td>\n",
       "      <td>audi 100ls</td>\n",
       "      <td>gas</td>\n",
       "      <td>std</td>\n",
       "      <td>four</td>\n",
       "      <td>sedan</td>\n",
       "      <td>4wd</td>\n",
       "      <td>front</td>\n",
       "      <td>99.4</td>\n",
       "      <td>...</td>\n",
       "      <td>136</td>\n",
       "      <td>mpfi</td>\n",
       "      <td>3.19</td>\n",
       "      <td>3.40</td>\n",
       "      <td>8.0</td>\n",
       "      <td>115</td>\n",
       "      <td>5500</td>\n",
       "      <td>18</td>\n",
       "      <td>22</td>\n",
       "      <td>17450.0</td>\n",
       "    </tr>\n",
       "  </tbody>\n",
       "</table>\n",
       "<p>5 rows × 26 columns</p>\n",
       "</div>"
      ],
      "text/plain": [
       "   car_ID  symboling                   CarName fueltype aspiration doornumber  \\\n",
       "0       1          3        alfa-romero giulia      gas        std        two   \n",
       "1       2          3       alfa-romero stelvio      gas        std        two   \n",
       "2       3          1  alfa-romero Quadrifoglio      gas        std        two   \n",
       "3       4          2               audi 100 ls      gas        std       four   \n",
       "4       5          2                audi 100ls      gas        std       four   \n",
       "\n",
       "       carbody drivewheel enginelocation  wheelbase  ...  enginesize  \\\n",
       "0  convertible        rwd          front       88.6  ...         130   \n",
       "1  convertible        rwd          front       88.6  ...         130   \n",
       "2    hatchback        rwd          front       94.5  ...         152   \n",
       "3        sedan        fwd          front       99.8  ...         109   \n",
       "4        sedan        4wd          front       99.4  ...         136   \n",
       "\n",
       "   fuelsystem  boreratio  stroke compressionratio horsepower  peakrpm citympg  \\\n",
       "0        mpfi       3.47    2.68              9.0        111     5000      21   \n",
       "1        mpfi       3.47    2.68              9.0        111     5000      21   \n",
       "2        mpfi       2.68    3.47              9.0        154     5000      19   \n",
       "3        mpfi       3.19    3.40             10.0        102     5500      24   \n",
       "4        mpfi       3.19    3.40              8.0        115     5500      18   \n",
       "\n",
       "   highwaympg    price  \n",
       "0          27  13495.0  \n",
       "1          27  16500.0  \n",
       "2          26  16500.0  \n",
       "3          30  13950.0  \n",
       "4          22  17450.0  \n",
       "\n",
       "[5 rows x 26 columns]"
      ]
     },
     "execution_count": 6,
     "metadata": {},
     "output_type": "execute_result"
    }
   ],
   "source": [
    "df.head()"
   ]
  },
  {
   "cell_type": "code",
   "execution_count": 7,
   "id": "f38abe6a",
   "metadata": {
    "execution": {
     "iopub.execute_input": "2022-05-26T20:25:59.970552Z",
     "iopub.status.busy": "2022-05-26T20:25:59.970051Z",
     "iopub.status.idle": "2022-05-26T20:25:59.993560Z",
     "shell.execute_reply": "2022-05-26T20:25:59.992904Z"
    },
    "papermill": {
     "duration": 0.114091,
     "end_time": "2022-05-26T20:25:59.995525",
     "exception": false,
     "start_time": "2022-05-26T20:25:59.881434",
     "status": "completed"
    },
    "tags": []
   },
   "outputs": [
    {
     "data": {
      "text/html": [
       "<div>\n",
       "<style scoped>\n",
       "    .dataframe tbody tr th:only-of-type {\n",
       "        vertical-align: middle;\n",
       "    }\n",
       "\n",
       "    .dataframe tbody tr th {\n",
       "        vertical-align: top;\n",
       "    }\n",
       "\n",
       "    .dataframe thead th {\n",
       "        text-align: right;\n",
       "    }\n",
       "</style>\n",
       "<table border=\"1\" class=\"dataframe\">\n",
       "  <thead>\n",
       "    <tr style=\"text-align: right;\">\n",
       "      <th></th>\n",
       "      <th>car_ID</th>\n",
       "      <th>symboling</th>\n",
       "      <th>CarName</th>\n",
       "      <th>fueltype</th>\n",
       "      <th>aspiration</th>\n",
       "      <th>doornumber</th>\n",
       "      <th>carbody</th>\n",
       "      <th>drivewheel</th>\n",
       "      <th>enginelocation</th>\n",
       "      <th>wheelbase</th>\n",
       "      <th>...</th>\n",
       "      <th>enginesize</th>\n",
       "      <th>fuelsystem</th>\n",
       "      <th>boreratio</th>\n",
       "      <th>stroke</th>\n",
       "      <th>compressionratio</th>\n",
       "      <th>horsepower</th>\n",
       "      <th>peakrpm</th>\n",
       "      <th>citympg</th>\n",
       "      <th>highwaympg</th>\n",
       "      <th>price</th>\n",
       "    </tr>\n",
       "  </thead>\n",
       "  <tbody>\n",
       "    <tr>\n",
       "      <th>200</th>\n",
       "      <td>201</td>\n",
       "      <td>-1</td>\n",
       "      <td>volvo 145e (sw)</td>\n",
       "      <td>gas</td>\n",
       "      <td>std</td>\n",
       "      <td>four</td>\n",
       "      <td>sedan</td>\n",
       "      <td>rwd</td>\n",
       "      <td>front</td>\n",
       "      <td>109.1</td>\n",
       "      <td>...</td>\n",
       "      <td>141</td>\n",
       "      <td>mpfi</td>\n",
       "      <td>3.78</td>\n",
       "      <td>3.15</td>\n",
       "      <td>9.5</td>\n",
       "      <td>114</td>\n",
       "      <td>5400</td>\n",
       "      <td>23</td>\n",
       "      <td>28</td>\n",
       "      <td>16845.0</td>\n",
       "    </tr>\n",
       "    <tr>\n",
       "      <th>201</th>\n",
       "      <td>202</td>\n",
       "      <td>-1</td>\n",
       "      <td>volvo 144ea</td>\n",
       "      <td>gas</td>\n",
       "      <td>turbo</td>\n",
       "      <td>four</td>\n",
       "      <td>sedan</td>\n",
       "      <td>rwd</td>\n",
       "      <td>front</td>\n",
       "      <td>109.1</td>\n",
       "      <td>...</td>\n",
       "      <td>141</td>\n",
       "      <td>mpfi</td>\n",
       "      <td>3.78</td>\n",
       "      <td>3.15</td>\n",
       "      <td>8.7</td>\n",
       "      <td>160</td>\n",
       "      <td>5300</td>\n",
       "      <td>19</td>\n",
       "      <td>25</td>\n",
       "      <td>19045.0</td>\n",
       "    </tr>\n",
       "    <tr>\n",
       "      <th>202</th>\n",
       "      <td>203</td>\n",
       "      <td>-1</td>\n",
       "      <td>volvo 244dl</td>\n",
       "      <td>gas</td>\n",
       "      <td>std</td>\n",
       "      <td>four</td>\n",
       "      <td>sedan</td>\n",
       "      <td>rwd</td>\n",
       "      <td>front</td>\n",
       "      <td>109.1</td>\n",
       "      <td>...</td>\n",
       "      <td>173</td>\n",
       "      <td>mpfi</td>\n",
       "      <td>3.58</td>\n",
       "      <td>2.87</td>\n",
       "      <td>8.8</td>\n",
       "      <td>134</td>\n",
       "      <td>5500</td>\n",
       "      <td>18</td>\n",
       "      <td>23</td>\n",
       "      <td>21485.0</td>\n",
       "    </tr>\n",
       "    <tr>\n",
       "      <th>203</th>\n",
       "      <td>204</td>\n",
       "      <td>-1</td>\n",
       "      <td>volvo 246</td>\n",
       "      <td>diesel</td>\n",
       "      <td>turbo</td>\n",
       "      <td>four</td>\n",
       "      <td>sedan</td>\n",
       "      <td>rwd</td>\n",
       "      <td>front</td>\n",
       "      <td>109.1</td>\n",
       "      <td>...</td>\n",
       "      <td>145</td>\n",
       "      <td>idi</td>\n",
       "      <td>3.01</td>\n",
       "      <td>3.40</td>\n",
       "      <td>23.0</td>\n",
       "      <td>106</td>\n",
       "      <td>4800</td>\n",
       "      <td>26</td>\n",
       "      <td>27</td>\n",
       "      <td>22470.0</td>\n",
       "    </tr>\n",
       "    <tr>\n",
       "      <th>204</th>\n",
       "      <td>205</td>\n",
       "      <td>-1</td>\n",
       "      <td>volvo 264gl</td>\n",
       "      <td>gas</td>\n",
       "      <td>turbo</td>\n",
       "      <td>four</td>\n",
       "      <td>sedan</td>\n",
       "      <td>rwd</td>\n",
       "      <td>front</td>\n",
       "      <td>109.1</td>\n",
       "      <td>...</td>\n",
       "      <td>141</td>\n",
       "      <td>mpfi</td>\n",
       "      <td>3.78</td>\n",
       "      <td>3.15</td>\n",
       "      <td>9.5</td>\n",
       "      <td>114</td>\n",
       "      <td>5400</td>\n",
       "      <td>19</td>\n",
       "      <td>25</td>\n",
       "      <td>22625.0</td>\n",
       "    </tr>\n",
       "  </tbody>\n",
       "</table>\n",
       "<p>5 rows × 26 columns</p>\n",
       "</div>"
      ],
      "text/plain": [
       "     car_ID  symboling          CarName fueltype aspiration doornumber  \\\n",
       "200     201         -1  volvo 145e (sw)      gas        std       four   \n",
       "201     202         -1      volvo 144ea      gas      turbo       four   \n",
       "202     203         -1      volvo 244dl      gas        std       four   \n",
       "203     204         -1        volvo 246   diesel      turbo       four   \n",
       "204     205         -1      volvo 264gl      gas      turbo       four   \n",
       "\n",
       "    carbody drivewheel enginelocation  wheelbase  ...  enginesize  fuelsystem  \\\n",
       "200   sedan        rwd          front      109.1  ...         141        mpfi   \n",
       "201   sedan        rwd          front      109.1  ...         141        mpfi   \n",
       "202   sedan        rwd          front      109.1  ...         173        mpfi   \n",
       "203   sedan        rwd          front      109.1  ...         145         idi   \n",
       "204   sedan        rwd          front      109.1  ...         141        mpfi   \n",
       "\n",
       "     boreratio  stroke compressionratio horsepower  peakrpm citympg  \\\n",
       "200       3.78    3.15              9.5        114     5400      23   \n",
       "201       3.78    3.15              8.7        160     5300      19   \n",
       "202       3.58    2.87              8.8        134     5500      18   \n",
       "203       3.01    3.40             23.0        106     4800      26   \n",
       "204       3.78    3.15              9.5        114     5400      19   \n",
       "\n",
       "     highwaympg    price  \n",
       "200          28  16845.0  \n",
       "201          25  19045.0  \n",
       "202          23  21485.0  \n",
       "203          27  22470.0  \n",
       "204          25  22625.0  \n",
       "\n",
       "[5 rows x 26 columns]"
      ]
     },
     "execution_count": 7,
     "metadata": {},
     "output_type": "execute_result"
    }
   ],
   "source": [
    "df.tail()"
   ]
  },
  {
   "cell_type": "markdown",
   "id": "9ace57db",
   "metadata": {
    "papermill": {
     "duration": 0.092441,
     "end_time": "2022-05-26T20:26:00.181822",
     "exception": false,
     "start_time": "2022-05-26T20:26:00.089381",
     "status": "completed"
    },
    "tags": []
   },
   "source": [
    "### **spliting the carname column to company and model columns and make it easy to deal with**"
   ]
  },
  {
   "cell_type": "code",
   "execution_count": 8,
   "id": "96cefaca",
   "metadata": {
    "execution": {
     "iopub.execute_input": "2022-05-26T20:26:00.374755Z",
     "iopub.status.busy": "2022-05-26T20:26:00.374067Z",
     "iopub.status.idle": "2022-05-26T20:26:00.383169Z",
     "shell.execute_reply": "2022-05-26T20:26:00.382572Z"
    },
    "papermill": {
     "duration": 0.105557,
     "end_time": "2022-05-26T20:26:00.385273",
     "exception": false,
     "start_time": "2022-05-26T20:26:00.279716",
     "status": "completed"
    },
    "tags": []
   },
   "outputs": [],
   "source": [
    "df[['company','model']] = df.CarName.str.split(\" \",n=1,expand=True)"
   ]
  },
  {
   "cell_type": "markdown",
   "id": "12814d8a",
   "metadata": {
    "papermill": {
     "duration": 0.091816,
     "end_time": "2022-05-26T20:26:00.572076",
     "exception": false,
     "start_time": "2022-05-26T20:26:00.480260",
     "status": "completed"
    },
    "tags": []
   },
   "source": [
    "### **Droping the old column**"
   ]
  },
  {
   "cell_type": "code",
   "execution_count": 9,
   "id": "8dd1d3d7",
   "metadata": {
    "execution": {
     "iopub.execute_input": "2022-05-26T20:26:00.758810Z",
     "iopub.status.busy": "2022-05-26T20:26:00.758514Z",
     "iopub.status.idle": "2022-05-26T20:26:00.764364Z",
     "shell.execute_reply": "2022-05-26T20:26:00.763602Z"
    },
    "papermill": {
     "duration": 0.101135,
     "end_time": "2022-05-26T20:26:00.766383",
     "exception": false,
     "start_time": "2022-05-26T20:26:00.665248",
     "status": "completed"
    },
    "tags": []
   },
   "outputs": [],
   "source": [
    "df.drop([\"CarName\"],axis=1,inplace=True)"
   ]
  },
  {
   "cell_type": "code",
   "execution_count": 10,
   "id": "f6228a47",
   "metadata": {
    "execution": {
     "iopub.execute_input": "2022-05-26T20:26:00.956114Z",
     "iopub.status.busy": "2022-05-26T20:26:00.955849Z",
     "iopub.status.idle": "2022-05-26T20:26:00.989282Z",
     "shell.execute_reply": "2022-05-26T20:26:00.988338Z"
    },
    "papermill": {
     "duration": 0.131168,
     "end_time": "2022-05-26T20:26:00.991695",
     "exception": false,
     "start_time": "2022-05-26T20:26:00.860527",
     "status": "completed"
    },
    "tags": []
   },
   "outputs": [
    {
     "data": {
      "text/html": [
       "<div>\n",
       "<style scoped>\n",
       "    .dataframe tbody tr th:only-of-type {\n",
       "        vertical-align: middle;\n",
       "    }\n",
       "\n",
       "    .dataframe tbody tr th {\n",
       "        vertical-align: top;\n",
       "    }\n",
       "\n",
       "    .dataframe thead th {\n",
       "        text-align: right;\n",
       "    }\n",
       "</style>\n",
       "<table border=\"1\" class=\"dataframe\">\n",
       "  <thead>\n",
       "    <tr style=\"text-align: right;\">\n",
       "      <th></th>\n",
       "      <th>car_ID</th>\n",
       "      <th>symboling</th>\n",
       "      <th>fueltype</th>\n",
       "      <th>aspiration</th>\n",
       "      <th>doornumber</th>\n",
       "      <th>carbody</th>\n",
       "      <th>drivewheel</th>\n",
       "      <th>enginelocation</th>\n",
       "      <th>wheelbase</th>\n",
       "      <th>carlength</th>\n",
       "      <th>...</th>\n",
       "      <th>boreratio</th>\n",
       "      <th>stroke</th>\n",
       "      <th>compressionratio</th>\n",
       "      <th>horsepower</th>\n",
       "      <th>peakrpm</th>\n",
       "      <th>citympg</th>\n",
       "      <th>highwaympg</th>\n",
       "      <th>price</th>\n",
       "      <th>company</th>\n",
       "      <th>model</th>\n",
       "    </tr>\n",
       "  </thead>\n",
       "  <tbody>\n",
       "    <tr>\n",
       "      <th>0</th>\n",
       "      <td>1</td>\n",
       "      <td>3</td>\n",
       "      <td>gas</td>\n",
       "      <td>std</td>\n",
       "      <td>two</td>\n",
       "      <td>convertible</td>\n",
       "      <td>rwd</td>\n",
       "      <td>front</td>\n",
       "      <td>88.6</td>\n",
       "      <td>168.8</td>\n",
       "      <td>...</td>\n",
       "      <td>3.47</td>\n",
       "      <td>2.68</td>\n",
       "      <td>9.0</td>\n",
       "      <td>111</td>\n",
       "      <td>5000</td>\n",
       "      <td>21</td>\n",
       "      <td>27</td>\n",
       "      <td>13495.0</td>\n",
       "      <td>alfa-romero</td>\n",
       "      <td>giulia</td>\n",
       "    </tr>\n",
       "    <tr>\n",
       "      <th>1</th>\n",
       "      <td>2</td>\n",
       "      <td>3</td>\n",
       "      <td>gas</td>\n",
       "      <td>std</td>\n",
       "      <td>two</td>\n",
       "      <td>convertible</td>\n",
       "      <td>rwd</td>\n",
       "      <td>front</td>\n",
       "      <td>88.6</td>\n",
       "      <td>168.8</td>\n",
       "      <td>...</td>\n",
       "      <td>3.47</td>\n",
       "      <td>2.68</td>\n",
       "      <td>9.0</td>\n",
       "      <td>111</td>\n",
       "      <td>5000</td>\n",
       "      <td>21</td>\n",
       "      <td>27</td>\n",
       "      <td>16500.0</td>\n",
       "      <td>alfa-romero</td>\n",
       "      <td>stelvio</td>\n",
       "    </tr>\n",
       "    <tr>\n",
       "      <th>2</th>\n",
       "      <td>3</td>\n",
       "      <td>1</td>\n",
       "      <td>gas</td>\n",
       "      <td>std</td>\n",
       "      <td>two</td>\n",
       "      <td>hatchback</td>\n",
       "      <td>rwd</td>\n",
       "      <td>front</td>\n",
       "      <td>94.5</td>\n",
       "      <td>171.2</td>\n",
       "      <td>...</td>\n",
       "      <td>2.68</td>\n",
       "      <td>3.47</td>\n",
       "      <td>9.0</td>\n",
       "      <td>154</td>\n",
       "      <td>5000</td>\n",
       "      <td>19</td>\n",
       "      <td>26</td>\n",
       "      <td>16500.0</td>\n",
       "      <td>alfa-romero</td>\n",
       "      <td>Quadrifoglio</td>\n",
       "    </tr>\n",
       "    <tr>\n",
       "      <th>3</th>\n",
       "      <td>4</td>\n",
       "      <td>2</td>\n",
       "      <td>gas</td>\n",
       "      <td>std</td>\n",
       "      <td>four</td>\n",
       "      <td>sedan</td>\n",
       "      <td>fwd</td>\n",
       "      <td>front</td>\n",
       "      <td>99.8</td>\n",
       "      <td>176.6</td>\n",
       "      <td>...</td>\n",
       "      <td>3.19</td>\n",
       "      <td>3.40</td>\n",
       "      <td>10.0</td>\n",
       "      <td>102</td>\n",
       "      <td>5500</td>\n",
       "      <td>24</td>\n",
       "      <td>30</td>\n",
       "      <td>13950.0</td>\n",
       "      <td>audi</td>\n",
       "      <td>100 ls</td>\n",
       "    </tr>\n",
       "    <tr>\n",
       "      <th>4</th>\n",
       "      <td>5</td>\n",
       "      <td>2</td>\n",
       "      <td>gas</td>\n",
       "      <td>std</td>\n",
       "      <td>four</td>\n",
       "      <td>sedan</td>\n",
       "      <td>4wd</td>\n",
       "      <td>front</td>\n",
       "      <td>99.4</td>\n",
       "      <td>176.6</td>\n",
       "      <td>...</td>\n",
       "      <td>3.19</td>\n",
       "      <td>3.40</td>\n",
       "      <td>8.0</td>\n",
       "      <td>115</td>\n",
       "      <td>5500</td>\n",
       "      <td>18</td>\n",
       "      <td>22</td>\n",
       "      <td>17450.0</td>\n",
       "      <td>audi</td>\n",
       "      <td>100ls</td>\n",
       "    </tr>\n",
       "    <tr>\n",
       "      <th>...</th>\n",
       "      <td>...</td>\n",
       "      <td>...</td>\n",
       "      <td>...</td>\n",
       "      <td>...</td>\n",
       "      <td>...</td>\n",
       "      <td>...</td>\n",
       "      <td>...</td>\n",
       "      <td>...</td>\n",
       "      <td>...</td>\n",
       "      <td>...</td>\n",
       "      <td>...</td>\n",
       "      <td>...</td>\n",
       "      <td>...</td>\n",
       "      <td>...</td>\n",
       "      <td>...</td>\n",
       "      <td>...</td>\n",
       "      <td>...</td>\n",
       "      <td>...</td>\n",
       "      <td>...</td>\n",
       "      <td>...</td>\n",
       "      <td>...</td>\n",
       "    </tr>\n",
       "    <tr>\n",
       "      <th>200</th>\n",
       "      <td>201</td>\n",
       "      <td>-1</td>\n",
       "      <td>gas</td>\n",
       "      <td>std</td>\n",
       "      <td>four</td>\n",
       "      <td>sedan</td>\n",
       "      <td>rwd</td>\n",
       "      <td>front</td>\n",
       "      <td>109.1</td>\n",
       "      <td>188.8</td>\n",
       "      <td>...</td>\n",
       "      <td>3.78</td>\n",
       "      <td>3.15</td>\n",
       "      <td>9.5</td>\n",
       "      <td>114</td>\n",
       "      <td>5400</td>\n",
       "      <td>23</td>\n",
       "      <td>28</td>\n",
       "      <td>16845.0</td>\n",
       "      <td>volvo</td>\n",
       "      <td>145e (sw)</td>\n",
       "    </tr>\n",
       "    <tr>\n",
       "      <th>201</th>\n",
       "      <td>202</td>\n",
       "      <td>-1</td>\n",
       "      <td>gas</td>\n",
       "      <td>turbo</td>\n",
       "      <td>four</td>\n",
       "      <td>sedan</td>\n",
       "      <td>rwd</td>\n",
       "      <td>front</td>\n",
       "      <td>109.1</td>\n",
       "      <td>188.8</td>\n",
       "      <td>...</td>\n",
       "      <td>3.78</td>\n",
       "      <td>3.15</td>\n",
       "      <td>8.7</td>\n",
       "      <td>160</td>\n",
       "      <td>5300</td>\n",
       "      <td>19</td>\n",
       "      <td>25</td>\n",
       "      <td>19045.0</td>\n",
       "      <td>volvo</td>\n",
       "      <td>144ea</td>\n",
       "    </tr>\n",
       "    <tr>\n",
       "      <th>202</th>\n",
       "      <td>203</td>\n",
       "      <td>-1</td>\n",
       "      <td>gas</td>\n",
       "      <td>std</td>\n",
       "      <td>four</td>\n",
       "      <td>sedan</td>\n",
       "      <td>rwd</td>\n",
       "      <td>front</td>\n",
       "      <td>109.1</td>\n",
       "      <td>188.8</td>\n",
       "      <td>...</td>\n",
       "      <td>3.58</td>\n",
       "      <td>2.87</td>\n",
       "      <td>8.8</td>\n",
       "      <td>134</td>\n",
       "      <td>5500</td>\n",
       "      <td>18</td>\n",
       "      <td>23</td>\n",
       "      <td>21485.0</td>\n",
       "      <td>volvo</td>\n",
       "      <td>244dl</td>\n",
       "    </tr>\n",
       "    <tr>\n",
       "      <th>203</th>\n",
       "      <td>204</td>\n",
       "      <td>-1</td>\n",
       "      <td>diesel</td>\n",
       "      <td>turbo</td>\n",
       "      <td>four</td>\n",
       "      <td>sedan</td>\n",
       "      <td>rwd</td>\n",
       "      <td>front</td>\n",
       "      <td>109.1</td>\n",
       "      <td>188.8</td>\n",
       "      <td>...</td>\n",
       "      <td>3.01</td>\n",
       "      <td>3.40</td>\n",
       "      <td>23.0</td>\n",
       "      <td>106</td>\n",
       "      <td>4800</td>\n",
       "      <td>26</td>\n",
       "      <td>27</td>\n",
       "      <td>22470.0</td>\n",
       "      <td>volvo</td>\n",
       "      <td>246</td>\n",
       "    </tr>\n",
       "    <tr>\n",
       "      <th>204</th>\n",
       "      <td>205</td>\n",
       "      <td>-1</td>\n",
       "      <td>gas</td>\n",
       "      <td>turbo</td>\n",
       "      <td>four</td>\n",
       "      <td>sedan</td>\n",
       "      <td>rwd</td>\n",
       "      <td>front</td>\n",
       "      <td>109.1</td>\n",
       "      <td>188.8</td>\n",
       "      <td>...</td>\n",
       "      <td>3.78</td>\n",
       "      <td>3.15</td>\n",
       "      <td>9.5</td>\n",
       "      <td>114</td>\n",
       "      <td>5400</td>\n",
       "      <td>19</td>\n",
       "      <td>25</td>\n",
       "      <td>22625.0</td>\n",
       "      <td>volvo</td>\n",
       "      <td>264gl</td>\n",
       "    </tr>\n",
       "  </tbody>\n",
       "</table>\n",
       "<p>205 rows × 27 columns</p>\n",
       "</div>"
      ],
      "text/plain": [
       "     car_ID  symboling fueltype aspiration doornumber      carbody drivewheel  \\\n",
       "0         1          3      gas        std        two  convertible        rwd   \n",
       "1         2          3      gas        std        two  convertible        rwd   \n",
       "2         3          1      gas        std        two    hatchback        rwd   \n",
       "3         4          2      gas        std       four        sedan        fwd   \n",
       "4         5          2      gas        std       four        sedan        4wd   \n",
       "..      ...        ...      ...        ...        ...          ...        ...   \n",
       "200     201         -1      gas        std       four        sedan        rwd   \n",
       "201     202         -1      gas      turbo       four        sedan        rwd   \n",
       "202     203         -1      gas        std       four        sedan        rwd   \n",
       "203     204         -1   diesel      turbo       four        sedan        rwd   \n",
       "204     205         -1      gas      turbo       four        sedan        rwd   \n",
       "\n",
       "    enginelocation  wheelbase  carlength  ...  boreratio  stroke  \\\n",
       "0            front       88.6      168.8  ...       3.47    2.68   \n",
       "1            front       88.6      168.8  ...       3.47    2.68   \n",
       "2            front       94.5      171.2  ...       2.68    3.47   \n",
       "3            front       99.8      176.6  ...       3.19    3.40   \n",
       "4            front       99.4      176.6  ...       3.19    3.40   \n",
       "..             ...        ...        ...  ...        ...     ...   \n",
       "200          front      109.1      188.8  ...       3.78    3.15   \n",
       "201          front      109.1      188.8  ...       3.78    3.15   \n",
       "202          front      109.1      188.8  ...       3.58    2.87   \n",
       "203          front      109.1      188.8  ...       3.01    3.40   \n",
       "204          front      109.1      188.8  ...       3.78    3.15   \n",
       "\n",
       "     compressionratio horsepower peakrpm  citympg highwaympg    price  \\\n",
       "0                 9.0        111    5000       21         27  13495.0   \n",
       "1                 9.0        111    5000       21         27  16500.0   \n",
       "2                 9.0        154    5000       19         26  16500.0   \n",
       "3                10.0        102    5500       24         30  13950.0   \n",
       "4                 8.0        115    5500       18         22  17450.0   \n",
       "..                ...        ...     ...      ...        ...      ...   \n",
       "200               9.5        114    5400       23         28  16845.0   \n",
       "201               8.7        160    5300       19         25  19045.0   \n",
       "202               8.8        134    5500       18         23  21485.0   \n",
       "203              23.0        106    4800       26         27  22470.0   \n",
       "204               9.5        114    5400       19         25  22625.0   \n",
       "\n",
       "         company         model  \n",
       "0    alfa-romero        giulia  \n",
       "1    alfa-romero       stelvio  \n",
       "2    alfa-romero  Quadrifoglio  \n",
       "3           audi        100 ls  \n",
       "4           audi         100ls  \n",
       "..           ...           ...  \n",
       "200        volvo     145e (sw)  \n",
       "201        volvo         144ea  \n",
       "202        volvo         244dl  \n",
       "203        volvo           246  \n",
       "204        volvo         264gl  \n",
       "\n",
       "[205 rows x 27 columns]"
      ]
     },
     "execution_count": 10,
     "metadata": {},
     "output_type": "execute_result"
    }
   ],
   "source": [
    "df"
   ]
  },
  {
   "cell_type": "markdown",
   "id": "7952d252",
   "metadata": {
    "papermill": {
     "duration": 0.093329,
     "end_time": "2022-05-26T20:26:01.180723",
     "exception": false,
     "start_time": "2022-05-26T20:26:01.087394",
     "status": "completed"
    },
    "tags": []
   },
   "source": [
    "### **Moveing the new columns to the i-th (0,1) in the dataframe**"
   ]
  },
  {
   "cell_type": "code",
   "execution_count": 11,
   "id": "7cfaeb16",
   "metadata": {
    "execution": {
     "iopub.execute_input": "2022-05-26T20:26:01.368224Z",
     "iopub.status.busy": "2022-05-26T20:26:01.367761Z",
     "iopub.status.idle": "2022-05-26T20:26:01.374527Z",
     "shell.execute_reply": "2022-05-26T20:26:01.373851Z"
    },
    "papermill": {
     "duration": 0.102173,
     "end_time": "2022-05-26T20:26:01.376985",
     "exception": false,
     "start_time": "2022-05-26T20:26:01.274812",
     "status": "completed"
    },
    "tags": []
   },
   "outputs": [],
   "source": [
    "first_column = df.pop('company')\n",
    "df.insert(0, 'company', first_column)\n",
    "second_column = df.pop('model')\n",
    "df.insert(1, 'model', second_column)"
   ]
  },
  {
   "cell_type": "code",
   "execution_count": 12,
   "id": "42d2cc49",
   "metadata": {
    "execution": {
     "iopub.execute_input": "2022-05-26T20:26:01.570160Z",
     "iopub.status.busy": "2022-05-26T20:26:01.569655Z",
     "iopub.status.idle": "2022-05-26T20:26:01.599366Z",
     "shell.execute_reply": "2022-05-26T20:26:01.598496Z"
    },
    "papermill": {
     "duration": 0.129987,
     "end_time": "2022-05-26T20:26:01.601668",
     "exception": false,
     "start_time": "2022-05-26T20:26:01.471681",
     "status": "completed"
    },
    "tags": []
   },
   "outputs": [
    {
     "data": {
      "text/html": [
       "<div>\n",
       "<style scoped>\n",
       "    .dataframe tbody tr th:only-of-type {\n",
       "        vertical-align: middle;\n",
       "    }\n",
       "\n",
       "    .dataframe tbody tr th {\n",
       "        vertical-align: top;\n",
       "    }\n",
       "\n",
       "    .dataframe thead th {\n",
       "        text-align: right;\n",
       "    }\n",
       "</style>\n",
       "<table border=\"1\" class=\"dataframe\">\n",
       "  <thead>\n",
       "    <tr style=\"text-align: right;\">\n",
       "      <th></th>\n",
       "      <th>company</th>\n",
       "      <th>model</th>\n",
       "      <th>car_ID</th>\n",
       "      <th>symboling</th>\n",
       "      <th>fueltype</th>\n",
       "      <th>aspiration</th>\n",
       "      <th>doornumber</th>\n",
       "      <th>carbody</th>\n",
       "      <th>drivewheel</th>\n",
       "      <th>enginelocation</th>\n",
       "      <th>...</th>\n",
       "      <th>enginesize</th>\n",
       "      <th>fuelsystem</th>\n",
       "      <th>boreratio</th>\n",
       "      <th>stroke</th>\n",
       "      <th>compressionratio</th>\n",
       "      <th>horsepower</th>\n",
       "      <th>peakrpm</th>\n",
       "      <th>citympg</th>\n",
       "      <th>highwaympg</th>\n",
       "      <th>price</th>\n",
       "    </tr>\n",
       "  </thead>\n",
       "  <tbody>\n",
       "    <tr>\n",
       "      <th>0</th>\n",
       "      <td>alfa-romero</td>\n",
       "      <td>giulia</td>\n",
       "      <td>1</td>\n",
       "      <td>3</td>\n",
       "      <td>gas</td>\n",
       "      <td>std</td>\n",
       "      <td>two</td>\n",
       "      <td>convertible</td>\n",
       "      <td>rwd</td>\n",
       "      <td>front</td>\n",
       "      <td>...</td>\n",
       "      <td>130</td>\n",
       "      <td>mpfi</td>\n",
       "      <td>3.47</td>\n",
       "      <td>2.68</td>\n",
       "      <td>9.0</td>\n",
       "      <td>111</td>\n",
       "      <td>5000</td>\n",
       "      <td>21</td>\n",
       "      <td>27</td>\n",
       "      <td>13495.0</td>\n",
       "    </tr>\n",
       "    <tr>\n",
       "      <th>1</th>\n",
       "      <td>alfa-romero</td>\n",
       "      <td>stelvio</td>\n",
       "      <td>2</td>\n",
       "      <td>3</td>\n",
       "      <td>gas</td>\n",
       "      <td>std</td>\n",
       "      <td>two</td>\n",
       "      <td>convertible</td>\n",
       "      <td>rwd</td>\n",
       "      <td>front</td>\n",
       "      <td>...</td>\n",
       "      <td>130</td>\n",
       "      <td>mpfi</td>\n",
       "      <td>3.47</td>\n",
       "      <td>2.68</td>\n",
       "      <td>9.0</td>\n",
       "      <td>111</td>\n",
       "      <td>5000</td>\n",
       "      <td>21</td>\n",
       "      <td>27</td>\n",
       "      <td>16500.0</td>\n",
       "    </tr>\n",
       "    <tr>\n",
       "      <th>2</th>\n",
       "      <td>alfa-romero</td>\n",
       "      <td>Quadrifoglio</td>\n",
       "      <td>3</td>\n",
       "      <td>1</td>\n",
       "      <td>gas</td>\n",
       "      <td>std</td>\n",
       "      <td>two</td>\n",
       "      <td>hatchback</td>\n",
       "      <td>rwd</td>\n",
       "      <td>front</td>\n",
       "      <td>...</td>\n",
       "      <td>152</td>\n",
       "      <td>mpfi</td>\n",
       "      <td>2.68</td>\n",
       "      <td>3.47</td>\n",
       "      <td>9.0</td>\n",
       "      <td>154</td>\n",
       "      <td>5000</td>\n",
       "      <td>19</td>\n",
       "      <td>26</td>\n",
       "      <td>16500.0</td>\n",
       "    </tr>\n",
       "    <tr>\n",
       "      <th>3</th>\n",
       "      <td>audi</td>\n",
       "      <td>100 ls</td>\n",
       "      <td>4</td>\n",
       "      <td>2</td>\n",
       "      <td>gas</td>\n",
       "      <td>std</td>\n",
       "      <td>four</td>\n",
       "      <td>sedan</td>\n",
       "      <td>fwd</td>\n",
       "      <td>front</td>\n",
       "      <td>...</td>\n",
       "      <td>109</td>\n",
       "      <td>mpfi</td>\n",
       "      <td>3.19</td>\n",
       "      <td>3.40</td>\n",
       "      <td>10.0</td>\n",
       "      <td>102</td>\n",
       "      <td>5500</td>\n",
       "      <td>24</td>\n",
       "      <td>30</td>\n",
       "      <td>13950.0</td>\n",
       "    </tr>\n",
       "    <tr>\n",
       "      <th>4</th>\n",
       "      <td>audi</td>\n",
       "      <td>100ls</td>\n",
       "      <td>5</td>\n",
       "      <td>2</td>\n",
       "      <td>gas</td>\n",
       "      <td>std</td>\n",
       "      <td>four</td>\n",
       "      <td>sedan</td>\n",
       "      <td>4wd</td>\n",
       "      <td>front</td>\n",
       "      <td>...</td>\n",
       "      <td>136</td>\n",
       "      <td>mpfi</td>\n",
       "      <td>3.19</td>\n",
       "      <td>3.40</td>\n",
       "      <td>8.0</td>\n",
       "      <td>115</td>\n",
       "      <td>5500</td>\n",
       "      <td>18</td>\n",
       "      <td>22</td>\n",
       "      <td>17450.0</td>\n",
       "    </tr>\n",
       "    <tr>\n",
       "      <th>...</th>\n",
       "      <td>...</td>\n",
       "      <td>...</td>\n",
       "      <td>...</td>\n",
       "      <td>...</td>\n",
       "      <td>...</td>\n",
       "      <td>...</td>\n",
       "      <td>...</td>\n",
       "      <td>...</td>\n",
       "      <td>...</td>\n",
       "      <td>...</td>\n",
       "      <td>...</td>\n",
       "      <td>...</td>\n",
       "      <td>...</td>\n",
       "      <td>...</td>\n",
       "      <td>...</td>\n",
       "      <td>...</td>\n",
       "      <td>...</td>\n",
       "      <td>...</td>\n",
       "      <td>...</td>\n",
       "      <td>...</td>\n",
       "      <td>...</td>\n",
       "    </tr>\n",
       "    <tr>\n",
       "      <th>200</th>\n",
       "      <td>volvo</td>\n",
       "      <td>145e (sw)</td>\n",
       "      <td>201</td>\n",
       "      <td>-1</td>\n",
       "      <td>gas</td>\n",
       "      <td>std</td>\n",
       "      <td>four</td>\n",
       "      <td>sedan</td>\n",
       "      <td>rwd</td>\n",
       "      <td>front</td>\n",
       "      <td>...</td>\n",
       "      <td>141</td>\n",
       "      <td>mpfi</td>\n",
       "      <td>3.78</td>\n",
       "      <td>3.15</td>\n",
       "      <td>9.5</td>\n",
       "      <td>114</td>\n",
       "      <td>5400</td>\n",
       "      <td>23</td>\n",
       "      <td>28</td>\n",
       "      <td>16845.0</td>\n",
       "    </tr>\n",
       "    <tr>\n",
       "      <th>201</th>\n",
       "      <td>volvo</td>\n",
       "      <td>144ea</td>\n",
       "      <td>202</td>\n",
       "      <td>-1</td>\n",
       "      <td>gas</td>\n",
       "      <td>turbo</td>\n",
       "      <td>four</td>\n",
       "      <td>sedan</td>\n",
       "      <td>rwd</td>\n",
       "      <td>front</td>\n",
       "      <td>...</td>\n",
       "      <td>141</td>\n",
       "      <td>mpfi</td>\n",
       "      <td>3.78</td>\n",
       "      <td>3.15</td>\n",
       "      <td>8.7</td>\n",
       "      <td>160</td>\n",
       "      <td>5300</td>\n",
       "      <td>19</td>\n",
       "      <td>25</td>\n",
       "      <td>19045.0</td>\n",
       "    </tr>\n",
       "    <tr>\n",
       "      <th>202</th>\n",
       "      <td>volvo</td>\n",
       "      <td>244dl</td>\n",
       "      <td>203</td>\n",
       "      <td>-1</td>\n",
       "      <td>gas</td>\n",
       "      <td>std</td>\n",
       "      <td>four</td>\n",
       "      <td>sedan</td>\n",
       "      <td>rwd</td>\n",
       "      <td>front</td>\n",
       "      <td>...</td>\n",
       "      <td>173</td>\n",
       "      <td>mpfi</td>\n",
       "      <td>3.58</td>\n",
       "      <td>2.87</td>\n",
       "      <td>8.8</td>\n",
       "      <td>134</td>\n",
       "      <td>5500</td>\n",
       "      <td>18</td>\n",
       "      <td>23</td>\n",
       "      <td>21485.0</td>\n",
       "    </tr>\n",
       "    <tr>\n",
       "      <th>203</th>\n",
       "      <td>volvo</td>\n",
       "      <td>246</td>\n",
       "      <td>204</td>\n",
       "      <td>-1</td>\n",
       "      <td>diesel</td>\n",
       "      <td>turbo</td>\n",
       "      <td>four</td>\n",
       "      <td>sedan</td>\n",
       "      <td>rwd</td>\n",
       "      <td>front</td>\n",
       "      <td>...</td>\n",
       "      <td>145</td>\n",
       "      <td>idi</td>\n",
       "      <td>3.01</td>\n",
       "      <td>3.40</td>\n",
       "      <td>23.0</td>\n",
       "      <td>106</td>\n",
       "      <td>4800</td>\n",
       "      <td>26</td>\n",
       "      <td>27</td>\n",
       "      <td>22470.0</td>\n",
       "    </tr>\n",
       "    <tr>\n",
       "      <th>204</th>\n",
       "      <td>volvo</td>\n",
       "      <td>264gl</td>\n",
       "      <td>205</td>\n",
       "      <td>-1</td>\n",
       "      <td>gas</td>\n",
       "      <td>turbo</td>\n",
       "      <td>four</td>\n",
       "      <td>sedan</td>\n",
       "      <td>rwd</td>\n",
       "      <td>front</td>\n",
       "      <td>...</td>\n",
       "      <td>141</td>\n",
       "      <td>mpfi</td>\n",
       "      <td>3.78</td>\n",
       "      <td>3.15</td>\n",
       "      <td>9.5</td>\n",
       "      <td>114</td>\n",
       "      <td>5400</td>\n",
       "      <td>19</td>\n",
       "      <td>25</td>\n",
       "      <td>22625.0</td>\n",
       "    </tr>\n",
       "  </tbody>\n",
       "</table>\n",
       "<p>205 rows × 27 columns</p>\n",
       "</div>"
      ],
      "text/plain": [
       "         company         model  car_ID  symboling fueltype aspiration  \\\n",
       "0    alfa-romero        giulia       1          3      gas        std   \n",
       "1    alfa-romero       stelvio       2          3      gas        std   \n",
       "2    alfa-romero  Quadrifoglio       3          1      gas        std   \n",
       "3           audi        100 ls       4          2      gas        std   \n",
       "4           audi         100ls       5          2      gas        std   \n",
       "..           ...           ...     ...        ...      ...        ...   \n",
       "200        volvo     145e (sw)     201         -1      gas        std   \n",
       "201        volvo         144ea     202         -1      gas      turbo   \n",
       "202        volvo         244dl     203         -1      gas        std   \n",
       "203        volvo           246     204         -1   diesel      turbo   \n",
       "204        volvo         264gl     205         -1      gas      turbo   \n",
       "\n",
       "    doornumber      carbody drivewheel enginelocation  ...  enginesize  \\\n",
       "0          two  convertible        rwd          front  ...         130   \n",
       "1          two  convertible        rwd          front  ...         130   \n",
       "2          two    hatchback        rwd          front  ...         152   \n",
       "3         four        sedan        fwd          front  ...         109   \n",
       "4         four        sedan        4wd          front  ...         136   \n",
       "..         ...          ...        ...            ...  ...         ...   \n",
       "200       four        sedan        rwd          front  ...         141   \n",
       "201       four        sedan        rwd          front  ...         141   \n",
       "202       four        sedan        rwd          front  ...         173   \n",
       "203       four        sedan        rwd          front  ...         145   \n",
       "204       four        sedan        rwd          front  ...         141   \n",
       "\n",
       "     fuelsystem  boreratio  stroke  compressionratio horsepower peakrpm  \\\n",
       "0          mpfi       3.47    2.68               9.0        111    5000   \n",
       "1          mpfi       3.47    2.68               9.0        111    5000   \n",
       "2          mpfi       2.68    3.47               9.0        154    5000   \n",
       "3          mpfi       3.19    3.40              10.0        102    5500   \n",
       "4          mpfi       3.19    3.40               8.0        115    5500   \n",
       "..          ...        ...     ...               ...        ...     ...   \n",
       "200        mpfi       3.78    3.15               9.5        114    5400   \n",
       "201        mpfi       3.78    3.15               8.7        160    5300   \n",
       "202        mpfi       3.58    2.87               8.8        134    5500   \n",
       "203         idi       3.01    3.40              23.0        106    4800   \n",
       "204        mpfi       3.78    3.15               9.5        114    5400   \n",
       "\n",
       "     citympg highwaympg    price  \n",
       "0         21         27  13495.0  \n",
       "1         21         27  16500.0  \n",
       "2         19         26  16500.0  \n",
       "3         24         30  13950.0  \n",
       "4         18         22  17450.0  \n",
       "..       ...        ...      ...  \n",
       "200       23         28  16845.0  \n",
       "201       19         25  19045.0  \n",
       "202       18         23  21485.0  \n",
       "203       26         27  22470.0  \n",
       "204       19         25  22625.0  \n",
       "\n",
       "[205 rows x 27 columns]"
      ]
     },
     "execution_count": 12,
     "metadata": {},
     "output_type": "execute_result"
    }
   ],
   "source": [
    "df"
   ]
  },
  {
   "cell_type": "markdown",
   "id": "96e4ee5e",
   "metadata": {
    "papermill": {
     "duration": 0.096242,
     "end_time": "2022-05-26T20:26:01.792321",
     "exception": false,
     "start_time": "2022-05-26T20:26:01.696079",
     "status": "completed"
    },
    "tags": []
   },
   "source": [
    "### **Correcting of car names**"
   ]
  },
  {
   "cell_type": "code",
   "execution_count": 13,
   "id": "4e011f68",
   "metadata": {
    "execution": {
     "iopub.execute_input": "2022-05-26T20:26:01.985811Z",
     "iopub.status.busy": "2022-05-26T20:26:01.985266Z",
     "iopub.status.idle": "2022-05-26T20:26:01.997262Z",
     "shell.execute_reply": "2022-05-26T20:26:01.996451Z"
    },
    "papermill": {
     "duration": 0.111592,
     "end_time": "2022-05-26T20:26:01.999535",
     "exception": false,
     "start_time": "2022-05-26T20:26:01.887943",
     "status": "completed"
    },
    "tags": []
   },
   "outputs": [
    {
     "data": {
      "text/plain": [
       "array(['alfa-romero', 'audi', 'bmw', 'chevrolet', 'dodge', 'honda',\n",
       "       'isuzu', 'jaguar', 'mazda', 'buick', 'mercury', 'mitsubishi',\n",
       "       'nissan', 'peugeot', 'plymouth', 'porsche', 'renault', 'saab',\n",
       "       'subaru', 'toyota', 'volkswagen', 'volvo'], dtype=object)"
      ]
     },
     "execution_count": 13,
     "metadata": {},
     "output_type": "execute_result"
    }
   ],
   "source": [
    "df[\"company\"]=df[\"company\"].str.lower()\n",
    "\n",
    "def change(a,b):\n",
    "    df['company'].replace(a,b,inplace=True)\n",
    "    \n",
    "change('maxda','mazda')\n",
    "change('porcshce','porsche')\n",
    "change('toyouta','toyota')\n",
    "change('vokswagen','volkswagen')\n",
    "change('vw','volkswagen')\n",
    "df[\"company\"].unique()"
   ]
  },
  {
   "cell_type": "markdown",
   "id": "7f70018a",
   "metadata": {
    "papermill": {
     "duration": 0.094561,
     "end_time": "2022-05-26T20:26:02.185101",
     "exception": false,
     "start_time": "2022-05-26T20:26:02.090540",
     "status": "completed"
    },
    "tags": []
   },
   "source": [
    "###  **check correlation between variables**"
   ]
  },
  {
   "cell_type": "code",
   "execution_count": 14,
   "id": "1d18fa4f",
   "metadata": {
    "execution": {
     "iopub.execute_input": "2022-05-26T20:26:02.372330Z",
     "iopub.status.busy": "2022-05-26T20:26:02.371829Z",
     "iopub.status.idle": "2022-05-26T20:26:03.784203Z",
     "shell.execute_reply": "2022-05-26T20:26:03.783312Z"
    },
    "papermill": {
     "duration": 1.50675,
     "end_time": "2022-05-26T20:26:03.787906",
     "exception": false,
     "start_time": "2022-05-26T20:26:02.281156",
     "status": "completed"
    },
    "tags": []
   },
   "outputs": [
    {
     "data": {
      "image/png": "[encoded data removed]",
      "text/plain": [
       "<Figure size 864x504 with 2 Axes>"
      ]
     },
     "metadata": {
      "needs_background": "light"
     },
     "output_type": "display_data"
    }
   ],
   "source": [
    "plt.figure(figsize=(12,7))\n",
    "sns.heatmap(df.corr(),annot=True,cmap='viridis')\n",
    "plt.title(\"Correlations Between Variables\", size=17)\n",
    "plt.show()"
   ]
  },
  {
   "cell_type": "code",
   "execution_count": null,
   "id": "1129ac49",
   "metadata": {
    "papermill": {
     "duration": 0.097059,
     "end_time": "2022-05-26T20:26:03.981093",
     "exception": false,
     "start_time": "2022-05-26T20:26:03.884034",
     "status": "completed"
    },
    "tags": []
   },
   "outputs": [],
   "source": []
  },
  {
   "cell_type": "code",
   "execution_count": 15,
   "id": "190308fc",
   "metadata": {
    "execution": {
     "iopub.execute_input": "2022-05-26T20:26:04.172889Z",
     "iopub.status.busy": "2022-05-26T20:26:04.172603Z",
     "iopub.status.idle": "2022-05-26T20:26:04.179349Z",
     "shell.execute_reply": "2022-05-26T20:26:04.178345Z"
    },
    "papermill": {
     "duration": 0.105269,
     "end_time": "2022-05-26T20:26:04.181321",
     "exception": false,
     "start_time": "2022-05-26T20:26:04.076052",
     "status": "completed"
    },
    "tags": []
   },
   "outputs": [
    {
     "data": {
      "text/plain": [
       "Index(['company', 'model', 'car_ID', 'symboling', 'fueltype', 'aspiration',\n",
       "       'doornumber', 'carbody', 'drivewheel', 'enginelocation', 'wheelbase',\n",
       "       'carlength', 'carwidth', 'carheight', 'curbweight', 'enginetype',\n",
       "       'cylindernumber', 'enginesize', 'fuelsystem', 'boreratio', 'stroke',\n",
       "       'compressionratio', 'horsepower', 'peakrpm', 'citympg', 'highwaympg',\n",
       "       'price'],\n",
       "      dtype='object')"
      ]
     },
     "execution_count": 15,
     "metadata": {},
     "output_type": "execute_result"
    }
   ],
   "source": [
    "df.columns"
   ]
  },
  {
   "cell_type": "markdown",
   "id": "3da94e1a",
   "metadata": {
    "papermill": {
     "duration": 0.094223,
     "end_time": "2022-05-26T20:26:04.371297",
     "exception": false,
     "start_time": "2022-05-26T20:26:04.277074",
     "status": "completed"
    },
    "tags": []
   },
   "source": [
    "### **Drop unuseful variable that not affect on the target variable**"
   ]
  },
  {
   "cell_type": "code",
   "execution_count": 16,
   "id": "65fc9044",
   "metadata": {
    "execution": {
     "iopub.execute_input": "2022-05-26T20:26:04.566120Z",
     "iopub.status.busy": "2022-05-26T20:26:04.565838Z",
     "iopub.status.idle": "2022-05-26T20:26:04.572432Z",
     "shell.execute_reply": "2022-05-26T20:26:04.571854Z"
    },
    "papermill": {
     "duration": 0.106321,
     "end_time": "2022-05-26T20:26:04.574236",
     "exception": false,
     "start_time": "2022-05-26T20:26:04.467915",
     "status": "completed"
    },
    "tags": []
   },
   "outputs": [],
   "source": [
    "df.drop(['peakrpm', 'citympg', 'highwaympg','boreratio','car_ID', 'symboling','compressionratio','stroke','curbweight'],axis=1,inplace=True)"
   ]
  },
  {
   "cell_type": "code",
   "execution_count": 17,
   "id": "8ae97aad",
   "metadata": {
    "execution": {
     "iopub.execute_input": "2022-05-26T20:26:04.766682Z",
     "iopub.status.busy": "2022-05-26T20:26:04.766260Z",
     "iopub.status.idle": "2022-05-26T20:26:04.771719Z",
     "shell.execute_reply": "2022-05-26T20:26:04.770828Z"
    },
    "papermill": {
     "duration": 0.104155,
     "end_time": "2022-05-26T20:26:04.773932",
     "exception": false,
     "start_time": "2022-05-26T20:26:04.669777",
     "status": "completed"
    },
    "tags": []
   },
   "outputs": [
    {
     "data": {
      "text/plain": [
       "Index(['company', 'model', 'fueltype', 'aspiration', 'doornumber', 'carbody',\n",
       "       'drivewheel', 'enginelocation', 'wheelbase', 'carlength', 'carwidth',\n",
       "       'carheight', 'enginetype', 'cylindernumber', 'enginesize', 'fuelsystem',\n",
       "       'horsepower', 'price'],\n",
       "      dtype='object')"
      ]
     },
     "execution_count": 17,
     "metadata": {},
     "output_type": "execute_result"
    }
   ],
   "source": [
    "df.columns"
   ]
  },
  {
   "cell_type": "markdown",
   "id": "7800cf70",
   "metadata": {
    "papermill": {
     "duration": 0.094353,
     "end_time": "2022-05-26T20:26:04.964450",
     "exception": false,
     "start_time": "2022-05-26T20:26:04.870097",
     "status": "completed"
    },
    "tags": []
   },
   "source": [
    "### **Checking the outliers for numerical variables**"
   ]
  },
  {
   "cell_type": "code",
   "execution_count": 18,
   "id": "687760de",
   "metadata": {
    "execution": {
     "iopub.execute_input": "2022-05-26T20:26:05.160159Z",
     "iopub.status.busy": "2022-05-26T20:26:05.159625Z",
     "iopub.status.idle": "2022-05-26T20:26:05.320759Z",
     "shell.execute_reply": "2022-05-26T20:26:05.319320Z"
    },
    "papermill": {
     "duration": 0.261429,
     "end_time": "2022-05-26T20:26:05.323163",
     "exception": false,
     "start_time": "2022-05-26T20:26:05.061734",
     "status": "completed"
    },
    "tags": []
   },
   "outputs": [
    {
     "data": {
      "image/png": "[encoded data removed]",
      "text/plain": [
       "<Figure size 864x504 with 1 Axes>"
      ]
     },
     "metadata": {
      "needs_background": "light"
     },
     "output_type": "display_data"
    }
   ],
   "source": [
    "plt.figure(figsize=(12,7))\n",
    "sns.boxplot(df['enginesize'],color=\"#FFC4E1\")\n",
    "plt.show()"
   ]
  },
  {
   "cell_type": "code",
   "execution_count": 19,
   "id": "5949fc81",
   "metadata": {
    "execution": {
     "iopub.execute_input": "2022-05-26T20:26:05.517413Z",
     "iopub.status.busy": "2022-05-26T20:26:05.517107Z",
     "iopub.status.idle": "2022-05-26T20:26:05.682947Z",
     "shell.execute_reply": "2022-05-26T20:26:05.682084Z"
    },
    "papermill": {
     "duration": 0.265491,
     "end_time": "2022-05-26T20:26:05.685275",
     "exception": false,
     "start_time": "2022-05-26T20:26:05.419784",
     "status": "completed"
    },
    "tags": []
   },
   "outputs": [
    {
     "data": {
      "image/png": "[encoded data removed]",
      "text/plain": [
       "<Figure size 864x504 with 1 Axes>"
      ]
     },
     "metadata": {
      "needs_background": "light"
     },
     "output_type": "display_data"
    }
   ],
   "source": [
    "plt.figure(figsize=(12,7))\n",
    "sns.boxplot(df['horsepower'],color=\"#FFC4E1\")\n",
    "plt.show()"
   ]
  },
  {
   "cell_type": "code",
   "execution_count": 20,
   "id": "4cc55264",
   "metadata": {
    "execution": {
     "iopub.execute_input": "2022-05-26T20:26:05.884643Z",
     "iopub.status.busy": "2022-05-26T20:26:05.884343Z",
     "iopub.status.idle": "2022-05-26T20:26:06.059842Z",
     "shell.execute_reply": "2022-05-26T20:26:06.058950Z"
    },
    "papermill": {
     "duration": 0.277901,
     "end_time": "2022-05-26T20:26:06.061870",
     "exception": false,
     "start_time": "2022-05-26T20:26:05.783969",
     "status": "completed"
    },
    "tags": []
   },
   "outputs": [
    {
     "data": {
      "image/png": "[encoded data removed]",
      "text/plain": [
       "<Figure size 864x504 with 1 Axes>"
      ]
     },
     "metadata": {
      "needs_background": "light"
     },
     "output_type": "display_data"
    }
   ],
   "source": [
    "plt.figure(figsize=(12,7))\n",
    "sns.boxplot(df['price'],color=\"#FFC4E1\")\n",
    "plt.show()"
   ]
  },
  {
   "cell_type": "markdown",
   "id": "b44a78ad",
   "metadata": {
    "papermill": {
     "duration": 0.097443,
     "end_time": "2022-05-26T20:26:06.258428",
     "exception": false,
     "start_time": "2022-05-26T20:26:06.160985",
     "status": "completed"
    },
    "tags": []
   },
   "source": [
    "## Summaries :\n",
    "#### **as we can see here we found outliers but we can not delet it**\n",
    "#### **becouse it unique attributes for unique cars and deleting it will affect on model performance**\n"
   ]
  },
  {
   "cell_type": "code",
   "execution_count": 21,
   "id": "584afb64",
   "metadata": {
    "execution": {
     "iopub.execute_input": "2022-05-26T20:26:06.453966Z",
     "iopub.status.busy": "2022-05-26T20:26:06.453692Z",
     "iopub.status.idle": "2022-05-26T20:26:06.477549Z",
     "shell.execute_reply": "2022-05-26T20:26:06.476929Z"
    },
    "papermill": {
     "duration": 0.124377,
     "end_time": "2022-05-26T20:26:06.479675",
     "exception": false,
     "start_time": "2022-05-26T20:26:06.355298",
     "status": "completed"
    },
    "tags": []
   },
   "outputs": [
    {
     "data": {
      "text/html": [
       "<div>\n",
       "<style scoped>\n",
       "    .dataframe tbody tr th:only-of-type {\n",
       "        vertical-align: middle;\n",
       "    }\n",
       "\n",
       "    .dataframe tbody tr th {\n",
       "        vertical-align: top;\n",
       "    }\n",
       "\n",
       "    .dataframe thead th {\n",
       "        text-align: right;\n",
       "    }\n",
       "</style>\n",
       "<table border=\"1\" class=\"dataframe\">\n",
       "  <thead>\n",
       "    <tr style=\"text-align: right;\">\n",
       "      <th></th>\n",
       "      <th>0</th>\n",
       "      <th>1</th>\n",
       "      <th>2</th>\n",
       "      <th>3</th>\n",
       "      <th>4</th>\n",
       "      <th>5</th>\n",
       "      <th>6</th>\n",
       "      <th>7</th>\n",
       "      <th>8</th>\n",
       "      <th>9</th>\n",
       "      <th>...</th>\n",
       "      <th>12</th>\n",
       "      <th>13</th>\n",
       "      <th>14</th>\n",
       "      <th>15</th>\n",
       "      <th>16</th>\n",
       "      <th>17</th>\n",
       "      <th>18</th>\n",
       "      <th>19</th>\n",
       "      <th>20</th>\n",
       "      <th>21</th>\n",
       "    </tr>\n",
       "  </thead>\n",
       "  <tbody>\n",
       "    <tr>\n",
       "      <th>company</th>\n",
       "      <td>toyota</td>\n",
       "      <td>nissan</td>\n",
       "      <td>mazda</td>\n",
       "      <td>mitsubishi</td>\n",
       "      <td>honda</td>\n",
       "      <td>volkswagen</td>\n",
       "      <td>subaru</td>\n",
       "      <td>peugeot</td>\n",
       "      <td>volvo</td>\n",
       "      <td>dodge</td>\n",
       "      <td>...</td>\n",
       "      <td>audi</td>\n",
       "      <td>plymouth</td>\n",
       "      <td>saab</td>\n",
       "      <td>porsche</td>\n",
       "      <td>isuzu</td>\n",
       "      <td>jaguar</td>\n",
       "      <td>chevrolet</td>\n",
       "      <td>alfa-romero</td>\n",
       "      <td>renault</td>\n",
       "      <td>mercury</td>\n",
       "    </tr>\n",
       "    <tr>\n",
       "      <th>count</th>\n",
       "      <td>32</td>\n",
       "      <td>18</td>\n",
       "      <td>17</td>\n",
       "      <td>13</td>\n",
       "      <td>13</td>\n",
       "      <td>12</td>\n",
       "      <td>12</td>\n",
       "      <td>11</td>\n",
       "      <td>11</td>\n",
       "      <td>9</td>\n",
       "      <td>...</td>\n",
       "      <td>7</td>\n",
       "      <td>7</td>\n",
       "      <td>6</td>\n",
       "      <td>5</td>\n",
       "      <td>4</td>\n",
       "      <td>3</td>\n",
       "      <td>3</td>\n",
       "      <td>3</td>\n",
       "      <td>2</td>\n",
       "      <td>1</td>\n",
       "    </tr>\n",
       "  </tbody>\n",
       "</table>\n",
       "<p>2 rows × 22 columns</p>\n",
       "</div>"
      ],
      "text/plain": [
       "             0       1      2           3      4           5       6   \\\n",
       "company  toyota  nissan  mazda  mitsubishi  honda  volkswagen  subaru   \n",
       "count        32      18     17          13     13          12      12   \n",
       "\n",
       "              7      8      9   ...    12        13    14       15     16  \\\n",
       "company  peugeot  volvo  dodge  ...  audi  plymouth  saab  porsche  isuzu   \n",
       "count         11     11      9  ...     7         7     6        5      4   \n",
       "\n",
       "             17         18           19       20       21  \n",
       "company  jaguar  chevrolet  alfa-romero  renault  mercury  \n",
       "count         3          3            3        2        1  \n",
       "\n",
       "[2 rows x 22 columns]"
      ]
     },
     "execution_count": 21,
     "metadata": {},
     "output_type": "execute_result"
    }
   ],
   "source": [
    "\n",
    "pie=df[\"company\"].value_counts().reset_index()\n",
    "pie.columns=[\"company\",\"count\"]\n",
    "pie.T"
   ]
  },
  {
   "cell_type": "markdown",
   "id": "47d522a2",
   "metadata": {
    "papermill": {
     "duration": 0.097378,
     "end_time": "2022-05-26T20:26:06.675539",
     "exception": false,
     "start_time": "2022-05-26T20:26:06.578161",
     "status": "completed"
    },
    "tags": []
   },
   "source": [
    "### **Check the most popular model**\n"
   ]
  },
  {
   "cell_type": "code",
   "execution_count": 22,
   "id": "e576c9d0",
   "metadata": {
    "execution": {
     "iopub.execute_input": "2022-05-26T20:26:06.873161Z",
     "iopub.status.busy": "2022-05-26T20:26:06.872605Z",
     "iopub.status.idle": "2022-05-26T20:26:07.108643Z",
     "shell.execute_reply": "2022-05-26T20:26:07.107656Z"
    },
    "papermill": {
     "duration": 0.338269,
     "end_time": "2022-05-26T20:26:07.111314",
     "exception": false,
     "start_time": "2022-05-26T20:26:06.773045",
     "status": "completed"
    },
    "tags": []
   },
   "outputs": [
    {
     "data": {
      "image/png": "[encoded data removed]",
      "text/plain": [
       "<Figure size 1080x576 with 1 Axes>"
      ]
     },
     "metadata": {
      "needs_background": "light"
     },
     "output_type": "display_data"
    }
   ],
   "source": [
    "model=df[\"model\"].value_counts().reset_index()\n",
    "model.columns=[\"model\",\"count\"]\n",
    "plt.figure(figsize=(15,8))\n",
    "count_of_model = df['model'].value_counts()[0:10].sort_values(ascending=False)\n",
    "sns.countplot(data=df, x='model',order=count_of_model.index,palette=\"mako\")\n",
    "plt.title('Frequency of model',size=15)\n",
    "plt.xlabel('Model',size=13)\n",
    "plt.ylabel('Count',size=13)\n",
    "plt.show()\n"
   ]
  },
  {
   "cell_type": "code",
   "execution_count": 23,
   "id": "532893ee",
   "metadata": {
    "execution": {
     "iopub.execute_input": "2022-05-26T20:26:07.313042Z",
     "iopub.status.busy": "2022-05-26T20:26:07.312775Z",
     "iopub.status.idle": "2022-05-26T20:26:08.302659Z",
     "shell.execute_reply": "2022-05-26T20:26:08.301860Z"
    },
    "papermill": {
     "duration": 1.094645,
     "end_time": "2022-05-26T20:26:08.305318",
     "exception": false,
     "start_time": "2022-05-26T20:26:07.210673",
     "status": "completed"
    },
    "tags": []
   },
   "outputs": [
    {
     "data": {
      "text/html": [
       "        <script type=\"text/javascript\">\n",
       "        window.PlotlyConfig = {MathJaxConfig: 'local'};\n",
       "        if (window.MathJax && window.MathJax.Hub && window.MathJax.Hub.Config) {window.MathJax.Hub.Config({SVG: {font: \"STIX-Web\"}});}\n",
       "        if (typeof require !== 'undefined') {\n",
       "        require.undef(\"plotly\");\n",
       "        requirejs.config({\n",
       "            paths: {\n",
       "                'plotly': ['https://cdn.plot.ly/plotly-2.12.1.min']\n",
       "            }\n",
       "        });\n",
       "        require(['plotly'], function(Plotly) {\n",
       "            window._Plotly = Plotly;\n",
       "        });\n",
       "        }\n",
       "        </script>\n",
       "        "
      ]
     },
     "metadata": {},
     "output_type": "display_data"
    },
    {
     "data": {
      "text/html": [
       "<div>                            <div id=\"20fb22ea-bc36-41ca-8bd7-397ec635963a\" class=\"plotly-graph-div\" style=\"height:525px; width:100%;\"></div>            <script type=\"text/javascript\">                require([\"plotly\"], function(Plotly) {                    window.PLOTLYENV=window.PLOTLYENV || {};                                    if (document.getElementById(\"20fb22ea-bc36-41ca-8bd7-397ec635963a\")) {                    Plotly.newPlot(                        \"20fb22ea-bc36-41ca-8bd7-397ec635963a\",                        [{\"branchvalues\":\"total\",\"domain\":{\"x\":[0.0,1.0],\"y\":[0.0,1.0]},\"hovertemplate\":\"labels=%{label}<br>count=%{value}<br>parent=%{parent}<br>id=%{id}<extra></extra>\",\"ids\":[\"alfa-romero\",\"audi\",\"bmw\",\"buick\",\"chevrolet\",\"dodge\",\"honda\",\"isuzu\",\"jaguar\",\"mazda\",\"mercury\",\"mitsubishi\",\"nissan\",\"peugeot\",\"plymouth\",\"porsche\",\"renault\",\"saab\",\"subaru\",\"toyota\",\"volkswagen\",\"volvo\"],\"labels\":[\"alfa-romero\",\"audi\",\"bmw\",\"buick\",\"chevrolet\",\"dodge\",\"honda\",\"isuzu\",\"jaguar\",\"mazda\",\"mercury\",\"mitsubishi\",\"nissan\",\"peugeot\",\"plymouth\",\"porsche\",\"renault\",\"saab\",\"subaru\",\"toyota\",\"volkswagen\",\"volvo\"],\"name\":\"\",\"parents\":[\"\",\"\",\"\",\"\",\"\",\"\",\"\",\"\",\"\",\"\",\"\",\"\",\"\",\"\",\"\",\"\",\"\",\"\",\"\",\"\",\"\",\"\"],\"values\":[3,7,8,8,3,9,13,4,3,17,1,13,18,11,7,5,2,6,12,32,12,11],\"type\":\"treemap\"}],                        {\"template\":{\"data\":{\"histogram2dcontour\":[{\"type\":\"histogram2dcontour\",\"colorbar\":{\"outlinewidth\":0,\"ticks\":\"\"},\"colorscale\":[[0.0,\"#0d0887\"],[0.1111111111111111,\"#46039f\"],[0.2222222222222222,\"#7201a8\"],[0.3333333333333333,\"#9c179e\"],[0.4444444444444444,\"#bd3786\"],[0.5555555555555556,\"#d8576b\"],[0.6666666666666666,\"#ed7953\"],[0.7777777777777778,\"#fb9f3a\"],[0.8888888888888888,\"#fdca26\"],[1.0,\"#f0f921\"]]}],\"choropleth\":[{\"type\":\"choropleth\",\"colorbar\":{\"outlinewidth\":0,\"ticks\":\"\"}}],\"histogram2d\":[{\"type\":\"histogram2d\",\"colorbar\":{\"outlinewidth\":0,\"ticks\":\"\"},\"colorscale\":[[0.0,\"#0d0887\"],[0.1111111111111111,\"#46039f\"],[0.2222222222222222,\"#7201a8\"],[0.3333333333333333,\"#9c179e\"],[0.4444444444444444,\"#bd3786\"],[0.5555555555555556,\"#d8576b\"],[0.6666666666666666,\"#ed7953\"],[0.7777777777777778,\"#fb9f3a\"],[0.8888888888888888,\"#fdca26\"],[1.0,\"#f0f921\"]]}],\"heatmap\":[{\"type\":\"heatmap\",\"colorbar\":{\"outlinewidth\":0,\"ticks\":\"\"},\"colorscale\":[[0.0,\"#0d0887\"],[0.1111111111111111,\"#46039f\"],[0.2222222222222222,\"#7201a8\"],[0.3333333333333333,\"#9c179e\"],[0.4444444444444444,\"#bd3786\"],[0.5555555555555556,\"#d8576b\"],[0.6666666666666666,\"#ed7953\"],[0.7777777777777778,\"#fb9f3a\"],[0.8888888888888888,\"#fdca26\"],[1.0,\"#f0f921\"]]}],\"heatmapgl\":[{\"type\":\"heatmapgl\",\"colorbar\":{\"outlinewidth\":0,\"ticks\":\"\"},\"colorscale\":[[0.0,\"#0d0887\"],[0.1111111111111111,\"#46039f\"],[0.2222222222222222,\"#7201a8\"],[0.3333333333333333,\"#9c179e\"],[0.4444444444444444,\"#bd3786\"],[0.5555555555555556,\"#d8576b\"],[0.6666666666666666,\"#ed7953\"],[0.7777777777777778,\"#fb9f3a\"],[0.8888888888888888,\"#fdca26\"],[1.0,\"#f0f921\"]]}],\"contourcarpet\":[{\"type\":\"contourcarpet\",\"colorbar\":{\"outlinewidth\":0,\"ticks\":\"\"}}],\"contour\":[{\"type\":\"contour\",\"colorbar\":{\"outlinewidth\":0,\"ticks\":\"\"},\"colorscale\":[[0.0,\"#0d0887\"],[0.1111111111111111,\"#46039f\"],[0.2222222222222222,\"#7201a8\"],[0.3333333333333333,\"#9c179e\"],[0.4444444444444444,\"#bd3786\"],[0.5555555555555556,\"#d8576b\"],[0.6666666666666666,\"#ed7953\"],[0.7777777777777778,\"#fb9f3a\"],[0.8888888888888888,\"#fdca26\"],[1.0,\"#f0f921\"]]}],\"surface\":[{\"type\":\"surface\",\"colorbar\":{\"outlinewidth\":0,\"ticks\":\"\"},\"colorscale\":[[0.0,\"#0d0887\"],[0.1111111111111111,\"#46039f\"],[0.2222222222222222,\"#7201a8\"],[0.3333333333333333,\"#9c179e\"],[0.4444444444444444,\"#bd3786\"],[0.5555555555555556,\"#d8576b\"],[0.6666666666666666,\"#ed7953\"],[0.7777777777777778,\"#fb9f3a\"],[0.8888888888888888,\"#fdca26\"],[1.0,\"#f0f921\"]]}],\"mesh3d\":[{\"type\":\"mesh3d\",\"colorbar\":{\"outlinewidth\":0,\"ticks\":\"\"}}],\"scatter\":[{\"fillpattern\":{\"fillmode\":\"overlay\",\"size\":10,\"solidity\":0.2},\"type\":\"scatter\"}],\"parcoords\":[{\"type\":\"parcoords\",\"line\":{\"colorbar\":{\"outlinewidth\":0,\"ticks\":\"\"}}}],\"scatterpolargl\":[{\"type\":\"scatterpolargl\",\"marker\":{\"colorbar\":{\"outlinewidth\":0,\"ticks\":\"\"}}}],\"bar\":[{\"error_x\":{\"color\":\"#2a3f5f\"},\"error_y\":{\"color\":\"#2a3f5f\"},\"marker\":{\"line\":{\"color\":\"#E5ECF6\",\"width\":0.5},\"pattern\":{\"fillmode\":\"overlay\",\"size\":10,\"solidity\":0.2}},\"type\":\"bar\"}],\"scattergeo\":[{\"type\":\"scattergeo\",\"marker\":{\"colorbar\":{\"outlinewidth\":0,\"ticks\":\"\"}}}],\"scatterpolar\":[{\"type\":\"scatterpolar\",\"marker\":{\"colorbar\":{\"outlinewidth\":0,\"ticks\":\"\"}}}],\"histogram\":[{\"marker\":{\"pattern\":{\"fillmode\":\"overlay\",\"size\":10,\"solidity\":0.2}},\"type\":\"histogram\"}],\"scattergl\":[{\"type\":\"scattergl\",\"marker\":{\"colorbar\":{\"outlinewidth\":0,\"ticks\":\"\"}}}],\"scatter3d\":[{\"type\":\"scatter3d\",\"line\":{\"colorbar\":{\"outlinewidth\":0,\"ticks\":\"\"}},\"marker\":{\"colorbar\":{\"outlinewidth\":0,\"ticks\":\"\"}}}],\"scattermapbox\":[{\"type\":\"scattermapbox\",\"marker\":{\"colorbar\":{\"outlinewidth\":0,\"ticks\":\"\"}}}],\"scatterternary\":[{\"type\":\"scatterternary\",\"marker\":{\"colorbar\":{\"outlinewidth\":0,\"ticks\":\"\"}}}],\"scattercarpet\":[{\"type\":\"scattercarpet\",\"marker\":{\"colorbar\":{\"outlinewidth\":0,\"ticks\":\"\"}}}],\"carpet\":[{\"aaxis\":{\"endlinecolor\":\"#2a3f5f\",\"gridcolor\":\"white\",\"linecolor\":\"white\",\"minorgridcolor\":\"white\",\"startlinecolor\":\"#2a3f5f\"},\"baxis\":{\"endlinecolor\":\"#2a3f5f\",\"gridcolor\":\"white\",\"linecolor\":\"white\",\"minorgridcolor\":\"white\",\"startlinecolor\":\"#2a3f5f\"},\"type\":\"carpet\"}],\"table\":[{\"cells\":{\"fill\":{\"color\":\"#EBF0F8\"},\"line\":{\"color\":\"white\"}},\"header\":{\"fill\":{\"color\":\"#C8D4E3\"},\"line\":{\"color\":\"white\"}},\"type\":\"table\"}],\"barpolar\":[{\"marker\":{\"line\":{\"color\":\"#E5ECF6\",\"width\":0.5},\"pattern\":{\"fillmode\":\"overlay\",\"size\":10,\"solidity\":0.2}},\"type\":\"barpolar\"}],\"pie\":[{\"automargin\":true,\"type\":\"pie\"}]},\"layout\":{\"autotypenumbers\":\"strict\",\"colorway\":[\"#636efa\",\"#EF553B\",\"#00cc96\",\"#ab63fa\",\"#FFA15A\",\"#19d3f3\",\"#FF6692\",\"#B6E880\",\"#FF97FF\",\"#FECB52\"],\"font\":{\"color\":\"#2a3f5f\"},\"hovermode\":\"closest\",\"hoverlabel\":{\"align\":\"left\"},\"paper_bgcolor\":\"white\",\"plot_bgcolor\":\"#E5ECF6\",\"polar\":{\"bgcolor\":\"#E5ECF6\",\"angularaxis\":{\"gridcolor\":\"white\",\"linecolor\":\"white\",\"ticks\":\"\"},\"radialaxis\":{\"gridcolor\":\"white\",\"linecolor\":\"white\",\"ticks\":\"\"}},\"ternary\":{\"bgcolor\":\"#E5ECF6\",\"aaxis\":{\"gridcolor\":\"white\",\"linecolor\":\"white\",\"ticks\":\"\"},\"baxis\":{\"gridcolor\":\"white\",\"linecolor\":\"white\",\"ticks\":\"\"},\"caxis\":{\"gridcolor\":\"white\",\"linecolor\":\"white\",\"ticks\":\"\"}},\"coloraxis\":{\"colorbar\":{\"outlinewidth\":0,\"ticks\":\"\"}},\"colorscale\":{\"sequential\":[[0.0,\"#0d0887\"],[0.1111111111111111,\"#46039f\"],[0.2222222222222222,\"#7201a8\"],[0.3333333333333333,\"#9c179e\"],[0.4444444444444444,\"#bd3786\"],[0.5555555555555556,\"#d8576b\"],[0.6666666666666666,\"#ed7953\"],[0.7777777777777778,\"#fb9f3a\"],[0.8888888888888888,\"#fdca26\"],[1.0,\"#f0f921\"]],\"sequentialminus\":[[0.0,\"#0d0887\"],[0.1111111111111111,\"#46039f\"],[0.2222222222222222,\"#7201a8\"],[0.3333333333333333,\"#9c179e\"],[0.4444444444444444,\"#bd3786\"],[0.5555555555555556,\"#d8576b\"],[0.6666666666666666,\"#ed7953\"],[0.7777777777777778,\"#fb9f3a\"],[0.8888888888888888,\"#fdca26\"],[1.0,\"#f0f921\"]],\"diverging\":[[0,\"#8e0152\"],[0.1,\"#c51b7d\"],[0.2,\"#de77ae\"],[0.3,\"#f1b6da\"],[0.4,\"#fde0ef\"],[0.5,\"#f7f7f7\"],[0.6,\"#e6f5d0\"],[0.7,\"#b8e186\"],[0.8,\"#7fbc41\"],[0.9,\"#4d9221\"],[1,\"#276419\"]]},\"xaxis\":{\"gridcolor\":\"white\",\"linecolor\":\"white\",\"ticks\":\"\",\"title\":{\"standoff\":15},\"zerolinecolor\":\"white\",\"automargin\":true,\"zerolinewidth\":2},\"yaxis\":{\"gridcolor\":\"white\",\"linecolor\":\"white\",\"ticks\":\"\",\"title\":{\"standoff\":15},\"zerolinecolor\":\"white\",\"automargin\":true,\"zerolinewidth\":2},\"scene\":{\"xaxis\":{\"backgroundcolor\":\"#E5ECF6\",\"gridcolor\":\"white\",\"linecolor\":\"white\",\"showbackground\":true,\"ticks\":\"\",\"zerolinecolor\":\"white\",\"gridwidth\":2},\"yaxis\":{\"backgroundcolor\":\"#E5ECF6\",\"gridcolor\":\"white\",\"linecolor\":\"white\",\"showbackground\":true,\"ticks\":\"\",\"zerolinecolor\":\"white\",\"gridwidth\":2},\"zaxis\":{\"backgroundcolor\":\"#E5ECF6\",\"gridcolor\":\"white\",\"linecolor\":\"white\",\"showbackground\":true,\"ticks\":\"\",\"zerolinecolor\":\"white\",\"gridwidth\":2}},\"shapedefaults\":{\"line\":{\"color\":\"#2a3f5f\"}},\"annotationdefaults\":{\"arrowcolor\":\"#2a3f5f\",\"arrowhead\":0,\"arrowwidth\":1},\"geo\":{\"bgcolor\":\"white\",\"landcolor\":\"#E5ECF6\",\"subunitcolor\":\"white\",\"showland\":true,\"showlakes\":true,\"lakecolor\":\"white\"},\"title\":{\"x\":0.05},\"mapbox\":{\"style\":\"light\"}}},\"legend\":{\"tracegroupgap\":0},\"title\":{\"text\":\" The most bought car brand :\"}},                        {\"responsive\": true}                    ).then(function(){\n",
       "                            \n",
       "var gd = document.getElementById('20fb22ea-bc36-41ca-8bd7-397ec635963a');\n",
       "var x = new MutationObserver(function (mutations, observer) {{\n",
       "        var display = window.getComputedStyle(gd).display;\n",
       "        if (!display || display === 'none') {{\n",
       "            console.log([gd, 'removed!']);\n",
       "            Plotly.purge(gd);\n",
       "            observer.disconnect();\n",
       "        }}\n",
       "}});\n",
       "\n",
       "// Listen for the removal of the full notebook cells\n",
       "var notebookContainer = gd.closest('#notebook-container');\n",
       "if (notebookContainer) {{\n",
       "    x.observe(notebookContainer, {childList: true});\n",
       "}}\n",
       "\n",
       "// Listen for the clearing of the current output cell\n",
       "var outputEl = gd.closest('.output');\n",
       "if (outputEl) {{\n",
       "    x.observe(outputEl, {childList: true});\n",
       "}}\n",
       "\n",
       "                        })                };                });            </script>        </div>"
      ]
     },
     "metadata": {},
     "output_type": "display_data"
    }
   ],
   "source": [
    "brand_count=df\n",
    "px.treemap(brand_count,path=[\"company\"],title=\" The most bought car brand :\")"
   ]
  },
  {
   "cell_type": "code",
   "execution_count": 24,
   "id": "f41dabea",
   "metadata": {
    "execution": {
     "iopub.execute_input": "2022-05-26T20:26:08.511096Z",
     "iopub.status.busy": "2022-05-26T20:26:08.510506Z",
     "iopub.status.idle": "2022-05-26T20:26:08.839322Z",
     "shell.execute_reply": "2022-05-26T20:26:08.838309Z"
    },
    "papermill": {
     "duration": 0.436251,
     "end_time": "2022-05-26T20:26:08.844338",
     "exception": false,
     "start_time": "2022-05-26T20:26:08.408087",
     "status": "completed"
    },
    "tags": []
   },
   "outputs": [
    {
     "data": {
      "image/png": "[encoded data removed]",
      "text/plain": [
       "<Figure size 864x504 with 1 Axes>"
      ]
     },
     "metadata": {},
     "output_type": "display_data"
    }
   ],
   "source": [
    "plt.figure(figsize=(12,7))\n",
    "color=sns.color_palette(\"pastel\")\n",
    "plt.pie(pie[\"count\"],colors=color,autopct='%.0f%%',labels=pie[\"company\"])\n",
    "plt.show()"
   ]
  },
  {
   "cell_type": "markdown",
   "id": "61f3d700",
   "metadata": {
    "execution": {
     "iopub.execute_input": "2022-05-25T22:22:03.555917Z",
     "iopub.status.busy": "2022-05-25T22:22:03.555578Z",
     "iopub.status.idle": "2022-05-25T22:22:03.560031Z",
     "shell.execute_reply": "2022-05-25T22:22:03.559393Z",
     "shell.execute_reply.started": "2022-05-25T22:22:03.555868Z"
    },
    "papermill": {
     "duration": 0.108456,
     "end_time": "2022-05-26T20:26:09.059913",
     "exception": false,
     "start_time": "2022-05-26T20:26:08.951457",
     "status": "completed"
    },
    "tags": []
   },
   "source": [
    "## Summaries :\n",
    "### as we can here the most popular car company is toyota"
   ]
  },
  {
   "cell_type": "markdown",
   "id": "c8cdbcaf",
   "metadata": {
    "papermill": {
     "duration": 0.110014,
     "end_time": "2022-05-26T20:26:09.275074",
     "exception": false,
     "start_time": "2022-05-26T20:26:09.165060",
     "status": "completed"
    },
    "tags": []
   },
   "source": [
    "### **Check the most popular company**"
   ]
  },
  {
   "cell_type": "code",
   "execution_count": 25,
   "id": "d6fe464a",
   "metadata": {
    "execution": {
     "iopub.execute_input": "2022-05-26T20:26:09.496947Z",
     "iopub.status.busy": "2022-05-26T20:26:09.496681Z",
     "iopub.status.idle": "2022-05-26T20:26:09.510807Z",
     "shell.execute_reply": "2022-05-26T20:26:09.510099Z"
    },
    "papermill": {
     "duration": 0.128098,
     "end_time": "2022-05-26T20:26:09.512717",
     "exception": false,
     "start_time": "2022-05-26T20:26:09.384619",
     "status": "completed"
    },
    "tags": []
   },
   "outputs": [
    {
     "data": {
      "text/html": [
       "<div>\n",
       "<style scoped>\n",
       "    .dataframe tbody tr th:only-of-type {\n",
       "        vertical-align: middle;\n",
       "    }\n",
       "\n",
       "    .dataframe tbody tr th {\n",
       "        vertical-align: top;\n",
       "    }\n",
       "\n",
       "    .dataframe thead th {\n",
       "        text-align: right;\n",
       "    }\n",
       "</style>\n",
       "<table border=\"1\" class=\"dataframe\">\n",
       "  <thead>\n",
       "    <tr style=\"text-align: right;\">\n",
       "      <th></th>\n",
       "      <th>model</th>\n",
       "      <th>count</th>\n",
       "    </tr>\n",
       "  </thead>\n",
       "  <tbody>\n",
       "    <tr>\n",
       "      <th>0</th>\n",
       "      <td>corolla</td>\n",
       "      <td>6</td>\n",
       "    </tr>\n",
       "    <tr>\n",
       "      <th>1</th>\n",
       "      <td>corona</td>\n",
       "      <td>6</td>\n",
       "    </tr>\n",
       "    <tr>\n",
       "      <th>2</th>\n",
       "      <td>504</td>\n",
       "      <td>6</td>\n",
       "    </tr>\n",
       "    <tr>\n",
       "      <th>3</th>\n",
       "      <td>dl</td>\n",
       "      <td>4</td>\n",
       "    </tr>\n",
       "    <tr>\n",
       "      <th>4</th>\n",
       "      <td>civic</td>\n",
       "      <td>3</td>\n",
       "    </tr>\n",
       "    <tr>\n",
       "      <th>...</th>\n",
       "      <td>...</td>\n",
       "      <td>...</td>\n",
       "    </tr>\n",
       "    <tr>\n",
       "      <th>136</th>\n",
       "      <td>rx2 coupe</td>\n",
       "      <td>1</td>\n",
       "    </tr>\n",
       "    <tr>\n",
       "      <th>137</th>\n",
       "      <td>rx3</td>\n",
       "      <td>1</td>\n",
       "    </tr>\n",
       "    <tr>\n",
       "      <th>138</th>\n",
       "      <td>xk</td>\n",
       "      <td>1</td>\n",
       "    </tr>\n",
       "    <tr>\n",
       "      <th>139</th>\n",
       "      <td>xf</td>\n",
       "      <td>1</td>\n",
       "    </tr>\n",
       "    <tr>\n",
       "      <th>140</th>\n",
       "      <td>246</td>\n",
       "      <td>1</td>\n",
       "    </tr>\n",
       "  </tbody>\n",
       "</table>\n",
       "<p>141 rows × 2 columns</p>\n",
       "</div>"
      ],
      "text/plain": [
       "         model  count\n",
       "0      corolla      6\n",
       "1       corona      6\n",
       "2          504      6\n",
       "3           dl      4\n",
       "4        civic      3\n",
       "..         ...    ...\n",
       "136  rx2 coupe      1\n",
       "137        rx3      1\n",
       "138         xk      1\n",
       "139         xf      1\n",
       "140        246      1\n",
       "\n",
       "[141 rows x 2 columns]"
      ]
     },
     "execution_count": 25,
     "metadata": {},
     "output_type": "execute_result"
    }
   ],
   "source": [
    "model=df[\"model\"].value_counts().reset_index()\n",
    "model.columns=[\"model\",\"count\"]\n",
    "model"
   ]
  },
  {
   "cell_type": "code",
   "execution_count": 26,
   "id": "873b312a",
   "metadata": {
    "execution": {
     "iopub.execute_input": "2022-05-26T20:26:09.723212Z",
     "iopub.status.busy": "2022-05-26T20:26:09.722669Z",
     "iopub.status.idle": "2022-05-26T20:26:10.124704Z",
     "shell.execute_reply": "2022-05-26T20:26:10.123669Z"
    },
    "papermill": {
     "duration": 0.509979,
     "end_time": "2022-05-26T20:26:10.126871",
     "exception": false,
     "start_time": "2022-05-26T20:26:09.616892",
     "status": "completed"
    },
    "tags": []
   },
   "outputs": [
    {
     "data": {
      "image/png": "[encoded data removed]",
      "text/plain": [
       "<Figure size 1080x576 with 1 Axes>"
      ]
     },
     "metadata": {
      "needs_background": "light"
     },
     "output_type": "display_data"
    }
   ],
   "source": [
    "plt.figure(figsize=(15,8))\n",
    "count_of_model = df['model'].value_counts()[0:10].sort_values()\n",
    "sns.countplot(data=df, x='model',order=count_of_model.index,palette=\"mako\")\n",
    "plt.title('Frequency of model',size=15)\n",
    "plt.xlabel('Model',size=13)\n",
    "plt.ylabel('Count',size=13)\n",
    "plt.show()"
   ]
  },
  {
   "cell_type": "markdown",
   "id": "51780d43",
   "metadata": {
    "papermill": {
     "duration": 0.105338,
     "end_time": "2022-05-26T20:26:10.337757",
     "exception": false,
     "start_time": "2022-05-26T20:26:10.232419",
     "status": "completed"
    },
    "tags": []
   },
   "source": [
    "## Summaries :\n",
    "### **the most common models is corollar , corona , 504**"
   ]
  },
  {
   "cell_type": "markdown",
   "id": "a1a3ec93",
   "metadata": {
    "papermill": {
     "duration": 0.105729,
     "end_time": "2022-05-26T20:26:10.548729",
     "exception": false,
     "start_time": "2022-05-26T20:26:10.443000",
     "status": "completed"
    },
    "tags": []
   },
   "source": [
    "                          "
   ]
  },
  {
   "cell_type": "markdown",
   "id": "f69c941e",
   "metadata": {
    "papermill": {
     "duration": 0.105675,
     "end_time": "2022-05-26T20:26:10.760241",
     "exception": false,
     "start_time": "2022-05-26T20:26:10.654566",
     "status": "completed"
    },
    "tags": []
   },
   "source": [
    "### **check the most common fueltype**"
   ]
  },
  {
   "cell_type": "code",
   "execution_count": 27,
   "id": "42ea4ddc",
   "metadata": {
    "execution": {
     "iopub.execute_input": "2022-05-26T20:26:10.974973Z",
     "iopub.status.busy": "2022-05-26T20:26:10.974387Z",
     "iopub.status.idle": "2022-05-26T20:26:10.986011Z",
     "shell.execute_reply": "2022-05-26T20:26:10.985163Z"
    },
    "papermill": {
     "duration": 0.121367,
     "end_time": "2022-05-26T20:26:10.988119",
     "exception": false,
     "start_time": "2022-05-26T20:26:10.866752",
     "status": "completed"
    },
    "tags": []
   },
   "outputs": [
    {
     "data": {
      "text/html": [
       "<div>\n",
       "<style scoped>\n",
       "    .dataframe tbody tr th:only-of-type {\n",
       "        vertical-align: middle;\n",
       "    }\n",
       "\n",
       "    .dataframe tbody tr th {\n",
       "        vertical-align: top;\n",
       "    }\n",
       "\n",
       "    .dataframe thead th {\n",
       "        text-align: right;\n",
       "    }\n",
       "</style>\n",
       "<table border=\"1\" class=\"dataframe\">\n",
       "  <thead>\n",
       "    <tr style=\"text-align: right;\">\n",
       "      <th></th>\n",
       "      <th>fueltype</th>\n",
       "      <th>count</th>\n",
       "    </tr>\n",
       "  </thead>\n",
       "  <tbody>\n",
       "    <tr>\n",
       "      <th>0</th>\n",
       "      <td>gas</td>\n",
       "      <td>185</td>\n",
       "    </tr>\n",
       "    <tr>\n",
       "      <th>1</th>\n",
       "      <td>diesel</td>\n",
       "      <td>20</td>\n",
       "    </tr>\n",
       "  </tbody>\n",
       "</table>\n",
       "</div>"
      ],
      "text/plain": [
       "  fueltype  count\n",
       "0      gas    185\n",
       "1   diesel     20"
      ]
     },
     "execution_count": 27,
     "metadata": {},
     "output_type": "execute_result"
    }
   ],
   "source": [
    "fueltype=df['fueltype'].value_counts().reset_index()\n",
    "fueltype.columns=[\"fueltype\",\"count\"]\n",
    "fueltype"
   ]
  },
  {
   "cell_type": "code",
   "execution_count": 28,
   "id": "8d3a5d07",
   "metadata": {
    "execution": {
     "iopub.execute_input": "2022-05-26T20:26:11.202736Z",
     "iopub.status.busy": "2022-05-26T20:26:11.202144Z",
     "iopub.status.idle": "2022-05-26T20:26:11.366617Z",
     "shell.execute_reply": "2022-05-26T20:26:11.365651Z"
    },
    "papermill": {
     "duration": 0.274451,
     "end_time": "2022-05-26T20:26:11.368673",
     "exception": false,
     "start_time": "2022-05-26T20:26:11.094222",
     "status": "completed"
    },
    "tags": []
   },
   "outputs": [
    {
     "data": {
      "image/png": "[encoded data removed]",
      "text/plain": [
       "<Figure size 504x360 with 1 Axes>"
      ]
     },
     "metadata": {
      "needs_background": "light"
     },
     "output_type": "display_data"
    }
   ],
   "source": [
    "plt.figure(figsize=(7,5))\n",
    "count_of_model = df['fueltype'].value_counts()[0:10].sort_values()\n",
    "sns.countplot(data=df, x='fueltype',order=count_of_model.index,palette=\"mako\")\n",
    "plt.title('Frequency of fueltype',size=15)\n",
    "plt.xlabel('fueltype',size=13)\n",
    "plt.ylabel('Count',size=13)\n",
    "plt.show()"
   ]
  },
  {
   "cell_type": "markdown",
   "id": "2ec817ab",
   "metadata": {
    "papermill": {
     "duration": 0.106458,
     "end_time": "2022-05-26T20:26:11.582862",
     "exception": false,
     "start_time": "2022-05-26T20:26:11.476404",
     "status": "completed"
    },
    "tags": []
   },
   "source": [
    "\n",
    "## **Summaries :**\n",
    "\n",
    "### **check the most common drive wheel system**"
   ]
  },
  {
   "cell_type": "code",
   "execution_count": 29,
   "id": "10a278e5",
   "metadata": {
    "execution": {
     "iopub.execute_input": "2022-05-26T20:26:11.797703Z",
     "iopub.status.busy": "2022-05-26T20:26:11.797406Z",
     "iopub.status.idle": "2022-05-26T20:26:11.809041Z",
     "shell.execute_reply": "2022-05-26T20:26:11.808188Z"
    },
    "papermill": {
     "duration": 0.122669,
     "end_time": "2022-05-26T20:26:11.811523",
     "exception": false,
     "start_time": "2022-05-26T20:26:11.688854",
     "status": "completed"
    },
    "tags": []
   },
   "outputs": [
    {
     "data": {
      "text/html": [
       "<div>\n",
       "<style scoped>\n",
       "    .dataframe tbody tr th:only-of-type {\n",
       "        vertical-align: middle;\n",
       "    }\n",
       "\n",
       "    .dataframe tbody tr th {\n",
       "        vertical-align: top;\n",
       "    }\n",
       "\n",
       "    .dataframe thead th {\n",
       "        text-align: right;\n",
       "    }\n",
       "</style>\n",
       "<table border=\"1\" class=\"dataframe\">\n",
       "  <thead>\n",
       "    <tr style=\"text-align: right;\">\n",
       "      <th></th>\n",
       "      <th>drivewheel</th>\n",
       "      <th>count</th>\n",
       "    </tr>\n",
       "  </thead>\n",
       "  <tbody>\n",
       "    <tr>\n",
       "      <th>0</th>\n",
       "      <td>fwd</td>\n",
       "      <td>120</td>\n",
       "    </tr>\n",
       "    <tr>\n",
       "      <th>1</th>\n",
       "      <td>rwd</td>\n",
       "      <td>76</td>\n",
       "    </tr>\n",
       "    <tr>\n",
       "      <th>2</th>\n",
       "      <td>4wd</td>\n",
       "      <td>9</td>\n",
       "    </tr>\n",
       "  </tbody>\n",
       "</table>\n",
       "</div>"
      ],
      "text/plain": [
       "  drivewheel  count\n",
       "0        fwd    120\n",
       "1        rwd     76\n",
       "2        4wd      9"
      ]
     },
     "execution_count": 29,
     "metadata": {},
     "output_type": "execute_result"
    }
   ],
   "source": [
    "drivewheel=df['drivewheel'].value_counts().reset_index()\n",
    "drivewheel.columns=['drivewheel',\"count\"]\n",
    "drivewheel"
   ]
  },
  {
   "cell_type": "code",
   "execution_count": 30,
   "id": "55cae11b",
   "metadata": {
    "execution": {
     "iopub.execute_input": "2022-05-26T20:26:12.032523Z",
     "iopub.status.busy": "2022-05-26T20:26:12.032223Z",
     "iopub.status.idle": "2022-05-26T20:26:12.202169Z",
     "shell.execute_reply": "2022-05-26T20:26:12.201139Z"
    },
    "papermill": {
     "duration": 0.282822,
     "end_time": "2022-05-26T20:26:12.204322",
     "exception": false,
     "start_time": "2022-05-26T20:26:11.921500",
     "status": "completed"
    },
    "tags": []
   },
   "outputs": [
    {
     "data": {
      "image/png": "[encoded data removed]",
      "text/plain": [
       "<Figure size 504x360 with 1 Axes>"
      ]
     },
     "metadata": {
      "needs_background": "light"
     },
     "output_type": "display_data"
    }
   ],
   "source": [
    "plt.figure(figsize=(7,5))\n",
    "drivewheel = df['drivewheel'].value_counts()[0:10].sort_values()\n",
    "sns.countplot(data=df, x='drivewheel',order=drivewheel.index,palette=\"mako\")\n",
    "plt.title('Frequency of drivewheel',size=15)\n",
    "plt.xlabel('drivewheel',size=13)\n",
    "plt.ylabel('Count',size=13)\n",
    "plt.show()"
   ]
  },
  {
   "cell_type": "markdown",
   "id": "bab09384",
   "metadata": {
    "papermill": {
     "duration": 0.107428,
     "end_time": "2022-05-26T20:26:12.419565",
     "exception": false,
     "start_time": "2022-05-26T20:26:12.312137",
     "status": "completed"
    },
    "tags": []
   },
   "source": [
    "\n",
    "## **Summaries :**\n",
    "\n",
    "### **check the most common car body**"
   ]
  },
  {
   "cell_type": "code",
   "execution_count": 31,
   "id": "68a4c23e",
   "metadata": {
    "execution": {
     "iopub.execute_input": "2022-05-26T20:26:12.638570Z",
     "iopub.status.busy": "2022-05-26T20:26:12.637696Z",
     "iopub.status.idle": "2022-05-26T20:26:12.649478Z",
     "shell.execute_reply": "2022-05-26T20:26:12.648668Z"
    },
    "papermill": {
     "duration": 0.123823,
     "end_time": "2022-05-26T20:26:12.651546",
     "exception": false,
     "start_time": "2022-05-26T20:26:12.527723",
     "status": "completed"
    },
    "tags": []
   },
   "outputs": [
    {
     "data": {
      "text/html": [
       "<div>\n",
       "<style scoped>\n",
       "    .dataframe tbody tr th:only-of-type {\n",
       "        vertical-align: middle;\n",
       "    }\n",
       "\n",
       "    .dataframe tbody tr th {\n",
       "        vertical-align: top;\n",
       "    }\n",
       "\n",
       "    .dataframe thead th {\n",
       "        text-align: right;\n",
       "    }\n",
       "</style>\n",
       "<table border=\"1\" class=\"dataframe\">\n",
       "  <thead>\n",
       "    <tr style=\"text-align: right;\">\n",
       "      <th></th>\n",
       "      <th>carbody</th>\n",
       "      <th>count</th>\n",
       "    </tr>\n",
       "  </thead>\n",
       "  <tbody>\n",
       "    <tr>\n",
       "      <th>0</th>\n",
       "      <td>sedan</td>\n",
       "      <td>96</td>\n",
       "    </tr>\n",
       "    <tr>\n",
       "      <th>1</th>\n",
       "      <td>hatchback</td>\n",
       "      <td>70</td>\n",
       "    </tr>\n",
       "    <tr>\n",
       "      <th>2</th>\n",
       "      <td>wagon</td>\n",
       "      <td>25</td>\n",
       "    </tr>\n",
       "    <tr>\n",
       "      <th>3</th>\n",
       "      <td>hardtop</td>\n",
       "      <td>8</td>\n",
       "    </tr>\n",
       "    <tr>\n",
       "      <th>4</th>\n",
       "      <td>convertible</td>\n",
       "      <td>6</td>\n",
       "    </tr>\n",
       "  </tbody>\n",
       "</table>\n",
       "</div>"
      ],
      "text/plain": [
       "       carbody  count\n",
       "0        sedan     96\n",
       "1    hatchback     70\n",
       "2        wagon     25\n",
       "3      hardtop      8\n",
       "4  convertible      6"
      ]
     },
     "execution_count": 31,
     "metadata": {},
     "output_type": "execute_result"
    }
   ],
   "source": [
    "carbody=df['carbody'].value_counts().reset_index()\n",
    "carbody.columns=['carbody',\"count\"]\n",
    "carbody"
   ]
  },
  {
   "cell_type": "code",
   "execution_count": 32,
   "id": "5b194748",
   "metadata": {
    "execution": {
     "iopub.execute_input": "2022-05-26T20:26:12.872807Z",
     "iopub.status.busy": "2022-05-26T20:26:12.872168Z",
     "iopub.status.idle": "2022-05-26T20:26:13.054222Z",
     "shell.execute_reply": "2022-05-26T20:26:13.053371Z"
    },
    "papermill": {
     "duration": 0.294872,
     "end_time": "2022-05-26T20:26:13.056404",
     "exception": false,
     "start_time": "2022-05-26T20:26:12.761532",
     "status": "completed"
    },
    "tags": []
   },
   "outputs": [
    {
     "data": {
      "image/png": "[encoded data removed]",
      "text/plain": [
       "<Figure size 504x360 with 1 Axes>"
      ]
     },
     "metadata": {
      "needs_background": "light"
     },
     "output_type": "display_data"
    }
   ],
   "source": [
    "plt.figure(figsize=(7,5))\n",
    "drivewheel = df['carbody'].value_counts()[0:10].sort_values()\n",
    "sns.countplot(data=df, x='carbody',order=drivewheel.index,palette=\"mako\")\n",
    "plt.title('Frequency of carbody',size=15)\n",
    "plt.xlabel('carbody',size=13)\n",
    "plt.ylabel('Count',size=13)\n",
    "plt.show()"
   ]
  },
  {
   "cell_type": "markdown",
   "id": "0e58e48c",
   "metadata": {
    "papermill": {
     "duration": 0.109233,
     "end_time": "2022-05-26T20:26:13.275563",
     "exception": false,
     "start_time": "2022-05-26T20:26:13.166330",
     "status": "completed"
    },
    "tags": []
   },
   "source": [
    "### check if the fual type affect on the price for every car company "
   ]
  },
  {
   "cell_type": "code",
   "execution_count": 33,
   "id": "32092b97",
   "metadata": {
    "execution": {
     "iopub.execute_input": "2022-05-26T20:26:13.498110Z",
     "iopub.status.busy": "2022-05-26T20:26:13.497289Z",
     "iopub.status.idle": "2022-05-26T20:26:14.750062Z",
     "shell.execute_reply": "2022-05-26T20:26:14.749236Z"
    },
    "papermill": {
     "duration": 1.369156,
     "end_time": "2022-05-26T20:26:14.753867",
     "exception": false,
     "start_time": "2022-05-26T20:26:13.384711",
     "status": "completed"
    },
    "tags": []
   },
   "outputs": [
    {
     "data": {
      "image/png": "[encoded data removed]",
      "text/plain": [
       "<Figure size 864x504 with 1 Axes>"
      ]
     },
     "metadata": {
      "needs_background": "light"
     },
     "output_type": "display_data"
    }
   ],
   "source": [
    "plt.figure(figsize=(12,7))\n",
    "sns.barplot(x=\"company\",y=\"price\",data=df[0:10000],hue=\"fueltype\",palette=\"mako\")\n",
    "plt.title(\"fueltype for each company\",size=15)\n",
    "plt.xlabel(\"model\",size=13)\n",
    "plt.ylabel(\"price\" , size=13)\n",
    "plt.xticks(rotation=45)\n",
    "plt.show()"
   ]
  },
  {
   "cell_type": "code",
   "execution_count": 34,
   "id": "22a69a8f",
   "metadata": {
    "execution": {
     "iopub.execute_input": "2022-05-26T20:26:14.985430Z",
     "iopub.status.busy": "2022-05-26T20:26:14.985179Z",
     "iopub.status.idle": "2022-05-26T20:26:15.292179Z",
     "shell.execute_reply": "2022-05-26T20:26:15.291525Z"
    },
    "papermill": {
     "duration": 0.42491,
     "end_time": "2022-05-26T20:26:15.294302",
     "exception": false,
     "start_time": "2022-05-26T20:26:14.869392",
     "status": "completed"
    },
    "tags": []
   },
   "outputs": [
    {
     "data": {
      "image/png": "[encoded data removed]",
      "text/plain": [
       "<Figure size 864x504 with 1 Axes>"
      ]
     },
     "metadata": {
      "needs_background": "light"
     },
     "output_type": "display_data"
    }
   ],
   "source": [
    "plt.figure(figsize=(12,7))\n",
    "sns.scatterplot(x=\"company\",y=\"price\",data=df[0:10000],hue=\"fueltype\",palette=\"mako\")\n",
    "plt.title(\"fueltype for each company\",size=15)\n",
    "plt.xlabel(\"model\",size=13)\n",
    "plt.ylabel(\"mpg\" , size=13)\n",
    "plt.xticks(rotation=45)\n",
    "plt.show()"
   ]
  },
  {
   "cell_type": "code",
   "execution_count": 35,
   "id": "5917e3d3",
   "metadata": {
    "execution": {
     "iopub.execute_input": "2022-05-26T20:26:15.525748Z",
     "iopub.status.busy": "2022-05-26T20:26:15.525440Z",
     "iopub.status.idle": "2022-05-26T20:26:15.544901Z",
     "shell.execute_reply": "2022-05-26T20:26:15.543958Z"
    },
    "papermill": {
     "duration": 0.138527,
     "end_time": "2022-05-26T20:26:15.547196",
     "exception": false,
     "start_time": "2022-05-26T20:26:15.408669",
     "status": "completed"
    },
    "tags": []
   },
   "outputs": [
    {
     "data": {
      "text/html": [
       "<div>\n",
       "<style scoped>\n",
       "    .dataframe tbody tr th:only-of-type {\n",
       "        vertical-align: middle;\n",
       "    }\n",
       "\n",
       "    .dataframe tbody tr th {\n",
       "        vertical-align: top;\n",
       "    }\n",
       "\n",
       "    .dataframe thead th {\n",
       "        text-align: right;\n",
       "    }\n",
       "</style>\n",
       "<table border=\"1\" class=\"dataframe\">\n",
       "  <thead>\n",
       "    <tr style=\"text-align: right;\">\n",
       "      <th></th>\n",
       "      <th>company</th>\n",
       "      <th>fueltype</th>\n",
       "      <th>price</th>\n",
       "    </tr>\n",
       "  </thead>\n",
       "  <tbody>\n",
       "    <tr>\n",
       "      <th>0</th>\n",
       "      <td>buick</td>\n",
       "      <td>gas</td>\n",
       "      <td>38900.000000</td>\n",
       "    </tr>\n",
       "    <tr>\n",
       "      <th>1</th>\n",
       "      <td>jaguar</td>\n",
       "      <td>gas</td>\n",
       "      <td>34600.000000</td>\n",
       "    </tr>\n",
       "    <tr>\n",
       "      <th>2</th>\n",
       "      <td>porsche</td>\n",
       "      <td>gas</td>\n",
       "      <td>31400.500000</td>\n",
       "    </tr>\n",
       "    <tr>\n",
       "      <th>3</th>\n",
       "      <td>buick</td>\n",
       "      <td>diesel</td>\n",
       "      <td>28394.000000</td>\n",
       "    </tr>\n",
       "    <tr>\n",
       "      <th>4</th>\n",
       "      <td>bmw</td>\n",
       "      <td>gas</td>\n",
       "      <td>26118.750000</td>\n",
       "    </tr>\n",
       "    <tr>\n",
       "      <th>5</th>\n",
       "      <td>volvo</td>\n",
       "      <td>diesel</td>\n",
       "      <td>22470.000000</td>\n",
       "    </tr>\n",
       "    <tr>\n",
       "      <th>6</th>\n",
       "      <td>audi</td>\n",
       "      <td>gas</td>\n",
       "      <td>17859.166714</td>\n",
       "    </tr>\n",
       "    <tr>\n",
       "      <th>7</th>\n",
       "      <td>volvo</td>\n",
       "      <td>gas</td>\n",
       "      <td>17622.500000</td>\n",
       "    </tr>\n",
       "    <tr>\n",
       "      <th>8</th>\n",
       "      <td>mercury</td>\n",
       "      <td>gas</td>\n",
       "      <td>16503.000000</td>\n",
       "    </tr>\n",
       "    <tr>\n",
       "      <th>9</th>\n",
       "      <td>peugeot</td>\n",
       "      <td>diesel</td>\n",
       "      <td>15797.000000</td>\n",
       "    </tr>\n",
       "    <tr>\n",
       "      <th>10</th>\n",
       "      <td>alfa-romero</td>\n",
       "      <td>gas</td>\n",
       "      <td>15498.333333</td>\n",
       "    </tr>\n",
       "    <tr>\n",
       "      <th>11</th>\n",
       "      <td>peugeot</td>\n",
       "      <td>gas</td>\n",
       "      <td>15232.500000</td>\n",
       "    </tr>\n",
       "    <tr>\n",
       "      <th>12</th>\n",
       "      <td>saab</td>\n",
       "      <td>gas</td>\n",
       "      <td>15223.333333</td>\n",
       "    </tr>\n",
       "    <tr>\n",
       "      <th>13</th>\n",
       "      <td>mazda</td>\n",
       "      <td>diesel</td>\n",
       "      <td>14569.500000</td>\n",
       "    </tr>\n",
       "    <tr>\n",
       "      <th>14</th>\n",
       "      <td>nissan</td>\n",
       "      <td>gas</td>\n",
       "      <td>10610.764706</td>\n",
       "    </tr>\n",
       "    <tr>\n",
       "      <th>15</th>\n",
       "      <td>volkswagen</td>\n",
       "      <td>gas</td>\n",
       "      <td>10227.500000</td>\n",
       "    </tr>\n",
       "    <tr>\n",
       "      <th>16</th>\n",
       "      <td>mazda</td>\n",
       "      <td>gas</td>\n",
       "      <td>10130.666667</td>\n",
       "    </tr>\n",
       "    <tr>\n",
       "      <th>17</th>\n",
       "      <td>toyota</td>\n",
       "      <td>gas</td>\n",
       "      <td>9998.689655</td>\n",
       "    </tr>\n",
       "    <tr>\n",
       "      <th>18</th>\n",
       "      <td>volkswagen</td>\n",
       "      <td>diesel</td>\n",
       "      <td>9777.500000</td>\n",
       "    </tr>\n",
       "    <tr>\n",
       "      <th>19</th>\n",
       "      <td>renault</td>\n",
       "      <td>gas</td>\n",
       "      <td>9595.000000</td>\n",
       "    </tr>\n",
       "    <tr>\n",
       "      <th>20</th>\n",
       "      <td>mitsubishi</td>\n",
       "      <td>gas</td>\n",
       "      <td>9239.769231</td>\n",
       "    </tr>\n",
       "    <tr>\n",
       "      <th>21</th>\n",
       "      <td>isuzu</td>\n",
       "      <td>gas</td>\n",
       "      <td>8916.500000</td>\n",
       "    </tr>\n",
       "    <tr>\n",
       "      <th>22</th>\n",
       "      <td>toyota</td>\n",
       "      <td>diesel</td>\n",
       "      <td>8794.666667</td>\n",
       "    </tr>\n",
       "    <tr>\n",
       "      <th>23</th>\n",
       "      <td>subaru</td>\n",
       "      <td>gas</td>\n",
       "      <td>8541.250000</td>\n",
       "    </tr>\n",
       "    <tr>\n",
       "      <th>24</th>\n",
       "      <td>honda</td>\n",
       "      <td>gas</td>\n",
       "      <td>8184.692308</td>\n",
       "    </tr>\n",
       "    <tr>\n",
       "      <th>25</th>\n",
       "      <td>plymouth</td>\n",
       "      <td>gas</td>\n",
       "      <td>7963.428571</td>\n",
       "    </tr>\n",
       "    <tr>\n",
       "      <th>26</th>\n",
       "      <td>dodge</td>\n",
       "      <td>gas</td>\n",
       "      <td>7875.444444</td>\n",
       "    </tr>\n",
       "    <tr>\n",
       "      <th>27</th>\n",
       "      <td>nissan</td>\n",
       "      <td>diesel</td>\n",
       "      <td>7099.000000</td>\n",
       "    </tr>\n",
       "    <tr>\n",
       "      <th>28</th>\n",
       "      <td>chevrolet</td>\n",
       "      <td>gas</td>\n",
       "      <td>6007.000000</td>\n",
       "    </tr>\n",
       "  </tbody>\n",
       "</table>\n",
       "</div>"
      ],
      "text/plain": [
       "        company fueltype         price\n",
       "0         buick      gas  38900.000000\n",
       "1        jaguar      gas  34600.000000\n",
       "2       porsche      gas  31400.500000\n",
       "3         buick   diesel  28394.000000\n",
       "4           bmw      gas  26118.750000\n",
       "5         volvo   diesel  22470.000000\n",
       "6          audi      gas  17859.166714\n",
       "7         volvo      gas  17622.500000\n",
       "8       mercury      gas  16503.000000\n",
       "9       peugeot   diesel  15797.000000\n",
       "10  alfa-romero      gas  15498.333333\n",
       "11      peugeot      gas  15232.500000\n",
       "12         saab      gas  15223.333333\n",
       "13        mazda   diesel  14569.500000\n",
       "14       nissan      gas  10610.764706\n",
       "15   volkswagen      gas  10227.500000\n",
       "16        mazda      gas  10130.666667\n",
       "17       toyota      gas   9998.689655\n",
       "18   volkswagen   diesel   9777.500000\n",
       "19      renault      gas   9595.000000\n",
       "20   mitsubishi      gas   9239.769231\n",
       "21        isuzu      gas   8916.500000\n",
       "22       toyota   diesel   8794.666667\n",
       "23       subaru      gas   8541.250000\n",
       "24        honda      gas   8184.692308\n",
       "25     plymouth      gas   7963.428571\n",
       "26        dodge      gas   7875.444444\n",
       "27       nissan   diesel   7099.000000\n",
       "28    chevrolet      gas   6007.000000"
      ]
     },
     "execution_count": 35,
     "metadata": {},
     "output_type": "execute_result"
    }
   ],
   "source": [
    "comvsfuel = pd.DataFrame(df.groupby(['company',\"fueltype\"])['price'].mean().sort_values(ascending = False))\n",
    "comvsfuel.reset_index()"
   ]
  },
  {
   "cell_type": "markdown",
   "id": "6e841082",
   "metadata": {
    "papermill": {
     "duration": 0.114583,
     "end_time": "2022-05-26T20:26:15.777136",
     "exception": false,
     "start_time": "2022-05-26T20:26:15.662553",
     "status": "completed"
    },
    "tags": []
   },
   "source": [
    "\n",
    "## **Summaries :**\n",
    "\n",
    "### **There is a difference in price when using a certain type of fuel for each company**"
   ]
  },
  {
   "cell_type": "markdown",
   "id": "4198ff33",
   "metadata": {
    "papermill": {
     "duration": 0.11657,
     "end_time": "2022-05-26T20:26:16.008329",
     "exception": false,
     "start_time": "2022-05-26T20:26:15.891759",
     "status": "completed"
    },
    "tags": []
   },
   "source": [
    "               "
   ]
  },
  {
   "cell_type": "markdown",
   "id": "d6318e77",
   "metadata": {
    "papermill": {
     "duration": 0.11597,
     "end_time": "2022-05-26T20:26:16.241007",
     "exception": false,
     "start_time": "2022-05-26T20:26:16.125037",
     "status": "completed"
    },
    "tags": []
   },
   "source": [
    "                                "
   ]
  },
  {
   "cell_type": "markdown",
   "id": "9747baa5",
   "metadata": {
    "papermill": {
     "duration": 0.114782,
     "end_time": "2022-05-26T20:26:16.470968",
     "exception": false,
     "start_time": "2022-05-26T20:26:16.356186",
     "status": "completed"
    },
    "tags": []
   },
   "source": [
    "### **check the average price for each company**"
   ]
  },
  {
   "cell_type": "code",
   "execution_count": 36,
   "id": "4b02a030",
   "metadata": {
    "execution": {
     "iopub.execute_input": "2022-05-26T20:26:16.702071Z",
     "iopub.status.busy": "2022-05-26T20:26:16.701365Z",
     "iopub.status.idle": "2022-05-26T20:26:16.714820Z",
     "shell.execute_reply": "2022-05-26T20:26:16.714011Z"
    },
    "papermill": {
     "duration": 0.13071,
     "end_time": "2022-05-26T20:26:16.716726",
     "exception": false,
     "start_time": "2022-05-26T20:26:16.586016",
     "status": "completed"
    },
    "tags": []
   },
   "outputs": [
    {
     "data": {
      "text/html": [
       "<div>\n",
       "<style scoped>\n",
       "    .dataframe tbody tr th:only-of-type {\n",
       "        vertical-align: middle;\n",
       "    }\n",
       "\n",
       "    .dataframe tbody tr th {\n",
       "        vertical-align: top;\n",
       "    }\n",
       "\n",
       "    .dataframe thead th {\n",
       "        text-align: right;\n",
       "    }\n",
       "</style>\n",
       "<table border=\"1\" class=\"dataframe\">\n",
       "  <thead>\n",
       "    <tr style=\"text-align: right;\">\n",
       "      <th></th>\n",
       "      <th>company</th>\n",
       "      <th>price</th>\n",
       "    </tr>\n",
       "  </thead>\n",
       "  <tbody>\n",
       "    <tr>\n",
       "      <th>0</th>\n",
       "      <td>jaguar</td>\n",
       "      <td>34600.000000</td>\n",
       "    </tr>\n",
       "    <tr>\n",
       "      <th>1</th>\n",
       "      <td>buick</td>\n",
       "      <td>33647.000000</td>\n",
       "    </tr>\n",
       "    <tr>\n",
       "      <th>2</th>\n",
       "      <td>porsche</td>\n",
       "      <td>31400.500000</td>\n",
       "    </tr>\n",
       "    <tr>\n",
       "      <th>3</th>\n",
       "      <td>bmw</td>\n",
       "      <td>26118.750000</td>\n",
       "    </tr>\n",
       "    <tr>\n",
       "      <th>4</th>\n",
       "      <td>volvo</td>\n",
       "      <td>18063.181818</td>\n",
       "    </tr>\n",
       "    <tr>\n",
       "      <th>5</th>\n",
       "      <td>audi</td>\n",
       "      <td>17859.166714</td>\n",
       "    </tr>\n",
       "    <tr>\n",
       "      <th>6</th>\n",
       "      <td>mercury</td>\n",
       "      <td>16503.000000</td>\n",
       "    </tr>\n",
       "    <tr>\n",
       "      <th>7</th>\n",
       "      <td>alfa-romero</td>\n",
       "      <td>15498.333333</td>\n",
       "    </tr>\n",
       "    <tr>\n",
       "      <th>8</th>\n",
       "      <td>peugeot</td>\n",
       "      <td>15489.090909</td>\n",
       "    </tr>\n",
       "    <tr>\n",
       "      <th>9</th>\n",
       "      <td>saab</td>\n",
       "      <td>15223.333333</td>\n",
       "    </tr>\n",
       "    <tr>\n",
       "      <th>10</th>\n",
       "      <td>mazda</td>\n",
       "      <td>10652.882353</td>\n",
       "    </tr>\n",
       "    <tr>\n",
       "      <th>11</th>\n",
       "      <td>nissan</td>\n",
       "      <td>10415.666667</td>\n",
       "    </tr>\n",
       "    <tr>\n",
       "      <th>12</th>\n",
       "      <td>volkswagen</td>\n",
       "      <td>10077.500000</td>\n",
       "    </tr>\n",
       "    <tr>\n",
       "      <th>13</th>\n",
       "      <td>toyota</td>\n",
       "      <td>9885.812500</td>\n",
       "    </tr>\n",
       "    <tr>\n",
       "      <th>14</th>\n",
       "      <td>renault</td>\n",
       "      <td>9595.000000</td>\n",
       "    </tr>\n",
       "    <tr>\n",
       "      <th>15</th>\n",
       "      <td>mitsubishi</td>\n",
       "      <td>9239.769231</td>\n",
       "    </tr>\n",
       "    <tr>\n",
       "      <th>16</th>\n",
       "      <td>isuzu</td>\n",
       "      <td>8916.500000</td>\n",
       "    </tr>\n",
       "    <tr>\n",
       "      <th>17</th>\n",
       "      <td>subaru</td>\n",
       "      <td>8541.250000</td>\n",
       "    </tr>\n",
       "    <tr>\n",
       "      <th>18</th>\n",
       "      <td>honda</td>\n",
       "      <td>8184.692308</td>\n",
       "    </tr>\n",
       "    <tr>\n",
       "      <th>19</th>\n",
       "      <td>plymouth</td>\n",
       "      <td>7963.428571</td>\n",
       "    </tr>\n",
       "    <tr>\n",
       "      <th>20</th>\n",
       "      <td>dodge</td>\n",
       "      <td>7875.444444</td>\n",
       "    </tr>\n",
       "    <tr>\n",
       "      <th>21</th>\n",
       "      <td>chevrolet</td>\n",
       "      <td>6007.000000</td>\n",
       "    </tr>\n",
       "  </tbody>\n",
       "</table>\n",
       "</div>"
      ],
      "text/plain": [
       "        company         price\n",
       "0        jaguar  34600.000000\n",
       "1         buick  33647.000000\n",
       "2       porsche  31400.500000\n",
       "3           bmw  26118.750000\n",
       "4         volvo  18063.181818\n",
       "5          audi  17859.166714\n",
       "6       mercury  16503.000000\n",
       "7   alfa-romero  15498.333333\n",
       "8       peugeot  15489.090909\n",
       "9          saab  15223.333333\n",
       "10        mazda  10652.882353\n",
       "11       nissan  10415.666667\n",
       "12   volkswagen  10077.500000\n",
       "13       toyota   9885.812500\n",
       "14      renault   9595.000000\n",
       "15   mitsubishi   9239.769231\n",
       "16        isuzu   8916.500000\n",
       "17       subaru   8541.250000\n",
       "18        honda   8184.692308\n",
       "19     plymouth   7963.428571\n",
       "20        dodge   7875.444444\n",
       "21    chevrolet   6007.000000"
      ]
     },
     "execution_count": 36,
     "metadata": {},
     "output_type": "execute_result"
    }
   ],
   "source": [
    "comvsprices = pd.DataFrame(df.groupby(['company'])['price'].mean().sort_values(ascending = False))\n",
    "comvsprices.reset_index()"
   ]
  },
  {
   "cell_type": "code",
   "execution_count": 37,
   "id": "1317fed0",
   "metadata": {
    "execution": {
     "iopub.execute_input": "2022-05-26T20:26:16.949408Z",
     "iopub.status.busy": "2022-05-26T20:26:16.949001Z",
     "iopub.status.idle": "2022-05-26T20:26:17.215543Z",
     "shell.execute_reply": "2022-05-26T20:26:17.214816Z"
    },
    "papermill": {
     "duration": 0.385571,
     "end_time": "2022-05-26T20:26:17.217624",
     "exception": false,
     "start_time": "2022-05-26T20:26:16.832053",
     "status": "completed"
    },
    "tags": []
   },
   "outputs": [
    {
     "data": {
      "text/plain": [
       "<Figure size 1440x432 with 0 Axes>"
      ]
     },
     "metadata": {},
     "output_type": "display_data"
    },
    {
     "data": {
      "image/png": "[encoded data removed]",
      "text/plain": [
       "<Figure size 432x288 with 1 Axes>"
      ]
     },
     "metadata": {
      "needs_background": "light"
     },
     "output_type": "display_data"
    }
   ],
   "source": [
    "\n",
    "plt.figure(figsize=(20, 6))\n",
    "comvsprices.plot.bar()\n",
    "plt.title(\"avg price for each company\",size=15)\n",
    "plt.xlabel(\"company\",size=13)\n",
    "plt.ylabel(\"avg prices\" , size=13)\n",
    "plt.show()"
   ]
  },
  {
   "cell_type": "markdown",
   "id": "8b399911",
   "metadata": {
    "papermill": {
     "duration": 0.117626,
     "end_time": "2022-05-26T20:26:17.452979",
     "exception": false,
     "start_time": "2022-05-26T20:26:17.335353",
     "status": "completed"
    },
    "tags": []
   },
   "source": [
    "## **Summaries :**\n",
    "\n",
    "### **the most expensive car is jaguar**"
   ]
  },
  {
   "cell_type": "markdown",
   "id": "65ff1fc8",
   "metadata": {
    "papermill": {
     "duration": 0.116885,
     "end_time": "2022-05-26T20:26:17.687894",
     "exception": false,
     "start_time": "2022-05-26T20:26:17.571009",
     "status": "completed"
    },
    "tags": []
   },
   "source": [
    "         "
   ]
  },
  {
   "cell_type": "markdown",
   "id": "87c5a99d",
   "metadata": {
    "papermill": {
     "duration": 0.116744,
     "end_time": "2022-05-26T20:26:17.923028",
     "exception": false,
     "start_time": "2022-05-26T20:26:17.806284",
     "status": "completed"
    },
    "tags": []
   },
   "source": [
    "### **Distribution of price on market**"
   ]
  },
  {
   "cell_type": "code",
   "execution_count": 38,
   "id": "2aa36fed",
   "metadata": {
    "execution": {
     "iopub.execute_input": "2022-05-26T20:26:18.161597Z",
     "iopub.status.busy": "2022-05-26T20:26:18.161162Z",
     "iopub.status.idle": "2022-05-26T20:26:18.349245Z",
     "shell.execute_reply": "2022-05-26T20:26:18.348638Z"
    },
    "papermill": {
     "duration": 0.310205,
     "end_time": "2022-05-26T20:26:18.351137",
     "exception": false,
     "start_time": "2022-05-26T20:26:18.040932",
     "status": "completed"
    },
    "tags": []
   },
   "outputs": [
    {
     "data": {
      "image/png": "[encoded data removed]",
      "text/plain": [
       "<Figure size 864x504 with 1 Axes>"
      ]
     },
     "metadata": {
      "needs_background": "light"
     },
     "output_type": "display_data"
    }
   ],
   "source": [
    "plt.figure(figsize=(12,7))\n",
    "sns.distplot(df['price'],kde=True)\n",
    "plt.show()"
   ]
  },
  {
   "cell_type": "markdown",
   "id": "d77f3932",
   "metadata": {
    "papermill": {
     "duration": 0.118668,
     "end_time": "2022-05-26T20:26:18.588613",
     "exception": false,
     "start_time": "2022-05-26T20:26:18.469945",
     "status": "completed"
    },
    "tags": []
   },
   "source": [
    "### **Distribution of price of gas vehicle**"
   ]
  },
  {
   "cell_type": "code",
   "execution_count": 39,
   "id": "53509ed6",
   "metadata": {
    "execution": {
     "iopub.execute_input": "2022-05-26T20:26:18.827708Z",
     "iopub.status.busy": "2022-05-26T20:26:18.827380Z",
     "iopub.status.idle": "2022-05-26T20:26:19.178767Z",
     "shell.execute_reply": "2022-05-26T20:26:19.177918Z"
    },
    "papermill": {
     "duration": 0.474283,
     "end_time": "2022-05-26T20:26:19.181202",
     "exception": false,
     "start_time": "2022-05-26T20:26:18.706919",
     "status": "completed"
    },
    "tags": []
   },
   "outputs": [
    {
     "data": {
      "text/plain": [
       "Text(0.5, 1.0, 'Distribution of ages of diesel vehicles')"
      ]
     },
     "execution_count": 39,
     "metadata": {},
     "output_type": "execute_result"
    },
    {
     "data": {
      "image/png": "[encoded data removed]",
      "text/plain": [
       "<Figure size 1224x648 with 2 Axes>"
      ]
     },
     "metadata": {
      "needs_background": "light"
     },
     "output_type": "display_data"
    }
   ],
   "source": [
    "f= plt.figure(figsize=(17,9))\n",
    "\n",
    "ax=f.add_subplot(121)\n",
    "sns.distplot(df[(df.fueltype== 'gas')][\"price\"],color=\"#b7d7e8\",ax=ax)\n",
    "ax.set_title('Distribution of price of gas vehicles')\n",
    "\n",
    "ax=f.add_subplot(122)\n",
    "sns.distplot(df[(df.fueltype == 'diesel')]['price'],color=\"#fff2df\",ax=ax)\n",
    "ax.set_title('Distribution of ages of diesel vehicles')"
   ]
  },
  {
   "cell_type": "code",
   "execution_count": 40,
   "id": "ddc9e0a3",
   "metadata": {
    "execution": {
     "iopub.execute_input": "2022-05-26T20:26:19.424234Z",
     "iopub.status.busy": "2022-05-26T20:26:19.423673Z",
     "iopub.status.idle": "2022-05-26T20:26:19.592512Z",
     "shell.execute_reply": "2022-05-26T20:26:19.591871Z"
    },
    "papermill": {
     "duration": 0.292868,
     "end_time": "2022-05-26T20:26:19.594474",
     "exception": false,
     "start_time": "2022-05-26T20:26:19.301606",
     "status": "completed"
    },
    "tags": []
   },
   "outputs": [
    {
     "data": {
      "image/png": "[encoded data removed]",
      "text/plain": [
       "<Figure size 1224x648 with 1 Axes>"
      ]
     },
     "metadata": {
      "needs_background": "light"
     },
     "output_type": "display_data"
    }
   ],
   "source": [
    "plt.figure(figsize=(17,9))\n",
    "sns.boxplot(x = 'fueltype', y = 'price', data = df,palette='Pastel2')\n",
    "plt.show()"
   ]
  },
  {
   "cell_type": "markdown",
   "id": "b47e3562",
   "metadata": {
    "papermill": {
     "duration": 0.120087,
     "end_time": "2022-05-26T20:26:19.836326",
     "exception": false,
     "start_time": "2022-05-26T20:26:19.716239",
     "status": "completed"
    },
    "tags": []
   },
   "source": [
    "### **Price distribution of Turbo aspiration vehicles**"
   ]
  },
  {
   "cell_type": "code",
   "execution_count": 41,
   "id": "6cd1cb65",
   "metadata": {
    "execution": {
     "iopub.execute_input": "2022-05-26T20:26:20.084256Z",
     "iopub.status.busy": "2022-05-26T20:26:20.082517Z",
     "iopub.status.idle": "2022-05-26T20:26:20.474654Z",
     "shell.execute_reply": "2022-05-26T20:26:20.473793Z"
    },
    "papermill": {
     "duration": 0.519057,
     "end_time": "2022-05-26T20:26:20.477347",
     "exception": false,
     "start_time": "2022-05-26T20:26:19.958290",
     "status": "completed"
    },
    "tags": []
   },
   "outputs": [
    {
     "data": {
      "text/plain": [
       "Text(0.5, 1.0, 'Price distribution of Std aspiration vehicles')"
      ]
     },
     "execution_count": 41,
     "metadata": {},
     "output_type": "execute_result"
    },
    {
     "data": {
      "image/png": "[encoded data removed]",
      "text/plain": [
       "<Figure size 1224x648 with 2 Axes>"
      ]
     },
     "metadata": {
      "needs_background": "light"
     },
     "output_type": "display_data"
    }
   ],
   "source": [
    "f= plt.figure(figsize=(17,9))\n",
    "\n",
    "ax=f.add_subplot(121)\n",
    "plot=sns.distplot(df[(df.aspiration== 'turbo')][\"price\"],color='#ca91eb',ax=ax)\n",
    "ax.set_title('Price distribution of Turbo aspiration vehicles')\n",
    "\n",
    "ax=f.add_subplot(122)\n",
    "plot=sns.distplot(df[(df.aspiration == 'std')]['price'],color='#eb6426',ax=ax)\n",
    "ax.set_title('Price distribution of Std aspiration vehicles')"
   ]
  },
  {
   "cell_type": "code",
   "execution_count": 42,
   "id": "552f8388",
   "metadata": {
    "execution": {
     "iopub.execute_input": "2022-05-26T20:26:20.726714Z",
     "iopub.status.busy": "2022-05-26T20:26:20.726406Z",
     "iopub.status.idle": "2022-05-26T20:26:20.928613Z",
     "shell.execute_reply": "2022-05-26T20:26:20.927740Z"
    },
    "papermill": {
     "duration": 0.328971,
     "end_time": "2022-05-26T20:26:20.930964",
     "exception": false,
     "start_time": "2022-05-26T20:26:20.601993",
     "status": "completed"
    },
    "tags": []
   },
   "outputs": [
    {
     "data": {
      "image/png": "[encoded data removed]",
      "text/plain": [
       "<Figure size 864x648 with 1 Axes>"
      ]
     },
     "metadata": {
      "needs_background": "light"
     },
     "output_type": "display_data"
    }
   ],
   "source": [
    "plt.figure(figsize=(12,9))\n",
    "sns.boxplot(x = 'aspiration', y = 'price', data = df,palette='Pastel1')\n",
    "plt.show()"
   ]
  },
  {
   "cell_type": "markdown",
   "id": "5d5798aa",
   "metadata": {
    "papermill": {
     "duration": 0.125511,
     "end_time": "2022-05-26T20:26:21.181970",
     "exception": false,
     "start_time": "2022-05-26T20:26:21.056459",
     "status": "completed"
    },
    "tags": []
   },
   "source": [
    "### **Price distribution according to door number**"
   ]
  },
  {
   "cell_type": "code",
   "execution_count": 43,
   "id": "2e3f3b0c",
   "metadata": {
    "execution": {
     "iopub.execute_input": "2022-05-26T20:26:21.432445Z",
     "iopub.status.busy": "2022-05-26T20:26:21.432175Z",
     "iopub.status.idle": "2022-05-26T20:26:21.818196Z",
     "shell.execute_reply": "2022-05-26T20:26:21.817271Z"
    },
    "papermill": {
     "duration": 0.514368,
     "end_time": "2022-05-26T20:26:21.820754",
     "exception": false,
     "start_time": "2022-05-26T20:26:21.306386",
     "status": "completed"
    },
    "tags": []
   },
   "outputs": [
    {
     "data": {
      "text/plain": [
       "Text(0.5, 1.0, 'Price distribution of cars having four doors')"
      ]
     },
     "execution_count": 43,
     "metadata": {},
     "output_type": "execute_result"
    },
    {
     "data": {
      "image/png": "[encoded data removed]",
      "text/plain": [
       "<Figure size 1224x648 with 2 Axes>"
      ]
     },
     "metadata": {
      "needs_background": "light"
     },
     "output_type": "display_data"
    }
   ],
   "source": [
    "f= plt.figure(figsize=(17,9))\n",
    "\n",
    "ax=f.add_subplot(121)\n",
    "plot=sns.distplot(df[(df.doornumber== 'two')][\"price\"],color='#ca91eb',ax=ax)\n",
    "ax.set_title('Price distribution of cars having two doors')\n",
    "\n",
    "ax=f.add_subplot(122)\n",
    "plot=sns.distplot(df[(df.doornumber == 'four')]['price'],color='#eb6426',ax=ax)\n",
    "ax.set_title('Price distribution of cars having four doors')"
   ]
  },
  {
   "cell_type": "code",
   "execution_count": 44,
   "id": "f392d222",
   "metadata": {
    "execution": {
     "iopub.execute_input": "2022-05-26T20:26:22.076959Z",
     "iopub.status.busy": "2022-05-26T20:26:22.076663Z",
     "iopub.status.idle": "2022-05-26T20:26:22.278880Z",
     "shell.execute_reply": "2022-05-26T20:26:22.278079Z"
    },
    "papermill": {
     "duration": 0.333159,
     "end_time": "2022-05-26T20:26:22.281122",
     "exception": false,
     "start_time": "2022-05-26T20:26:21.947963",
     "status": "completed"
    },
    "tags": []
   },
   "outputs": [
    {
     "data": {
      "image/png": "[encoded data removed]",
      "text/plain": [
       "<Figure size 864x648 with 1 Axes>"
      ]
     },
     "metadata": {
      "needs_background": "light"
     },
     "output_type": "display_data"
    }
   ],
   "source": [
    "plt.figure(figsize=(12,9))\n",
    "sns.boxplot(x = 'doornumber', y = 'price', data = df,palette='Pastel1')\n",
    "plt.show()"
   ]
  },
  {
   "cell_type": "code",
   "execution_count": 45,
   "id": "ee1e5a33",
   "metadata": {
    "execution": {
     "iopub.execute_input": "2022-05-26T20:26:22.537706Z",
     "iopub.status.busy": "2022-05-26T20:26:22.537142Z",
     "iopub.status.idle": "2022-05-26T20:26:22.550803Z",
     "shell.execute_reply": "2022-05-26T20:26:22.549997Z"
    },
    "papermill": {
     "duration": 0.144349,
     "end_time": "2022-05-26T20:26:22.552743",
     "exception": false,
     "start_time": "2022-05-26T20:26:22.408394",
     "status": "completed"
    },
    "tags": []
   },
   "outputs": [
    {
     "data": {
      "text/html": [
       "<div>\n",
       "<style scoped>\n",
       "    .dataframe tbody tr th:only-of-type {\n",
       "        vertical-align: middle;\n",
       "    }\n",
       "\n",
       "    .dataframe tbody tr th {\n",
       "        vertical-align: top;\n",
       "    }\n",
       "\n",
       "    .dataframe thead th {\n",
       "        text-align: right;\n",
       "    }\n",
       "</style>\n",
       "<table border=\"1\" class=\"dataframe\">\n",
       "  <thead>\n",
       "    <tr style=\"text-align: right;\">\n",
       "      <th></th>\n",
       "      <th>0</th>\n",
       "      <th>1</th>\n",
       "      <th>2</th>\n",
       "      <th>3</th>\n",
       "      <th>4</th>\n",
       "    </tr>\n",
       "  </thead>\n",
       "  <tbody>\n",
       "    <tr>\n",
       "      <th>carbody</th>\n",
       "      <td>sedan</td>\n",
       "      <td>hatchback</td>\n",
       "      <td>wagon</td>\n",
       "      <td>hardtop</td>\n",
       "      <td>convertible</td>\n",
       "    </tr>\n",
       "    <tr>\n",
       "      <th>count</th>\n",
       "      <td>96</td>\n",
       "      <td>70</td>\n",
       "      <td>25</td>\n",
       "      <td>8</td>\n",
       "      <td>6</td>\n",
       "    </tr>\n",
       "  </tbody>\n",
       "</table>\n",
       "</div>"
      ],
      "text/plain": [
       "             0          1      2        3            4\n",
       "carbody  sedan  hatchback  wagon  hardtop  convertible\n",
       "count       96         70     25        8            6"
      ]
     },
     "execution_count": 45,
     "metadata": {},
     "output_type": "execute_result"
    }
   ],
   "source": [
    "pie=df['carbody'].value_counts().reset_index()\n",
    "pie.columns=['carbody',\"count\"]\n",
    "pie.T"
   ]
  },
  {
   "cell_type": "code",
   "execution_count": 46,
   "id": "51e4709f",
   "metadata": {
    "execution": {
     "iopub.execute_input": "2022-05-26T20:26:22.809542Z",
     "iopub.status.busy": "2022-05-26T20:26:22.809127Z",
     "iopub.status.idle": "2022-05-26T20:26:22.937143Z",
     "shell.execute_reply": "2022-05-26T20:26:22.935901Z"
    },
    "papermill": {
     "duration": 0.26001,
     "end_time": "2022-05-26T20:26:22.940312",
     "exception": false,
     "start_time": "2022-05-26T20:26:22.680302",
     "status": "completed"
    },
    "tags": []
   },
   "outputs": [
    {
     "data": {
      "image/png": "[encoded data removed]",
      "text/plain": [
       "<Figure size 864x504 with 1 Axes>"
      ]
     },
     "metadata": {},
     "output_type": "display_data"
    }
   ],
   "source": [
    "plt.figure(figsize=(12,7))\n",
    "color=sns.color_palette(\"pastel\")\n",
    "plt.pie(pie[\"count\"],colors=color,autopct='%.0f%%',labels=pie['carbody'])\n",
    "plt.show()"
   ]
  },
  {
   "cell_type": "code",
   "execution_count": 47,
   "id": "50bad3b4",
   "metadata": {
    "execution": {
     "iopub.execute_input": "2022-05-26T20:26:23.232739Z",
     "iopub.status.busy": "2022-05-26T20:26:23.232433Z",
     "iopub.status.idle": "2022-05-26T20:26:23.495207Z",
     "shell.execute_reply": "2022-05-26T20:26:23.494340Z"
    },
    "papermill": {
     "duration": 0.397775,
     "end_time": "2022-05-26T20:26:23.497401",
     "exception": false,
     "start_time": "2022-05-26T20:26:23.099626",
     "status": "completed"
    },
    "tags": []
   },
   "outputs": [
    {
     "data": {
      "image/png": "[encoded data removed]",
      "text/plain": [
       "<Figure size 1224x648 with 1 Axes>"
      ]
     },
     "metadata": {
      "needs_background": "light"
     },
     "output_type": "display_data"
    }
   ],
   "source": [
    "plt.figure(figsize=(17,9))\n",
    "sns.boxplot(x = 'carbody', y = 'price', data = df,palette=\"pastel\")\n",
    "plt.show()"
   ]
  },
  {
   "cell_type": "code",
   "execution_count": null,
   "id": "80af93c9",
   "metadata": {
    "papermill": {
     "duration": 0.130628,
     "end_time": "2022-05-26T20:26:23.759890",
     "exception": false,
     "start_time": "2022-05-26T20:26:23.629262",
     "status": "completed"
    },
    "tags": []
   },
   "outputs": [],
   "source": []
  },
  {
   "cell_type": "code",
   "execution_count": null,
   "id": "1a4cee6c",
   "metadata": {
    "papermill": {
     "duration": 0.130389,
     "end_time": "2022-05-26T20:26:24.021546",
     "exception": false,
     "start_time": "2022-05-26T20:26:23.891157",
     "status": "completed"
    },
    "tags": []
   },
   "outputs": [],
   "source": []
  },
  {
   "cell_type": "code",
   "execution_count": 48,
   "id": "08ba6efd",
   "metadata": {
    "execution": {
     "iopub.execute_input": "2022-05-26T20:26:24.289245Z",
     "iopub.status.busy": "2022-05-26T20:26:24.288686Z",
     "iopub.status.idle": "2022-05-26T20:26:26.026219Z",
     "shell.execute_reply": "2022-05-26T20:26:26.025382Z"
    },
    "papermill": {
     "duration": 1.874123,
     "end_time": "2022-05-26T20:26:26.029053",
     "exception": false,
     "start_time": "2022-05-26T20:26:24.154930",
     "status": "completed"
    },
    "tags": []
   },
   "outputs": [
    {
     "data": {
      "image/png": "[encoded data removed]",
      "text/plain": [
       "<Figure size 1440x1080 with 9 Axes>"
      ]
     },
     "metadata": {
      "needs_background": "light"
     },
     "output_type": "display_data"
    }
   ],
   "source": [
    "plt.figure(figsize=(20, 15))\n",
    "plt.subplot(3,3,1)\n",
    "sns.boxplot(x = 'doornumber', y = 'price',palette=\"pastel\", data = df)\n",
    "plt.subplot(3,3,2)\n",
    "sns.boxplot(x = 'fueltype', y = 'price', palette=\"pastel\",data =  df)\n",
    "plt.subplot(3,3,3)\n",
    "sns.boxplot(x = 'aspiration', y = 'price',palette=\"pastel\", data =  df)\n",
    "plt.subplot(3,3,4)\n",
    "sns.boxplot(x = 'carbody', y = 'price', palette=\"pastel\",data =  df)\n",
    "plt.subplot(3,3,5)\n",
    "sns.boxplot(x = 'enginelocation', y = 'price', palette=\"pastel\",data =  df)\n",
    "plt.subplot(3,3,6)\n",
    "sns.boxplot(x = 'drivewheel', y = 'price',palette=\"pastel\", data =  df)\n",
    "plt.subplot(3,3,7)\n",
    "sns.boxplot(x = 'enginetype', y = 'price',palette=\"pastel\", data =  df)\n",
    "plt.subplot(3,3,8)\n",
    "sns.boxplot(x = 'cylindernumber', y = 'price', palette=\"pastel\",data =  df)\n",
    "plt.subplot(3,3,9)\n",
    "sns.boxplot(x = 'fuelsystem', y = 'price',palette=\"pastel\", data =  df)\n",
    "plt.show()\n"
   ]
  },
  {
   "cell_type": "code",
   "execution_count": 49,
   "id": "e2394cf1",
   "metadata": {
    "execution": {
     "iopub.execute_input": "2022-05-26T20:26:26.298874Z",
     "iopub.status.busy": "2022-05-26T20:26:26.298374Z",
     "iopub.status.idle": "2022-05-26T20:26:26.304933Z",
     "shell.execute_reply": "2022-05-26T20:26:26.303971Z"
    },
    "papermill": {
     "duration": 0.143989,
     "end_time": "2022-05-26T20:26:26.306904",
     "exception": false,
     "start_time": "2022-05-26T20:26:26.162915",
     "status": "completed"
    },
    "tags": []
   },
   "outputs": [
    {
     "data": {
      "text/plain": [
       "Index(['company', 'model', 'fueltype', 'aspiration', 'doornumber', 'carbody',\n",
       "       'drivewheel', 'enginelocation', 'wheelbase', 'carlength', 'carwidth',\n",
       "       'carheight', 'enginetype', 'cylindernumber', 'enginesize', 'fuelsystem',\n",
       "       'horsepower', 'price'],\n",
       "      dtype='object')"
      ]
     },
     "execution_count": 49,
     "metadata": {},
     "output_type": "execute_result"
    }
   ],
   "source": [
    "df.columns"
   ]
  },
  {
   "cell_type": "code",
   "execution_count": null,
   "id": "ae6a5068",
   "metadata": {
    "papermill": {
     "duration": 0.136824,
     "end_time": "2022-05-26T20:26:26.578328",
     "exception": false,
     "start_time": "2022-05-26T20:26:26.441504",
     "status": "completed"
    },
    "tags": []
   },
   "outputs": [],
   "source": [
    "\n"
   ]
  },
  {
   "cell_type": "code",
   "execution_count": null,
   "id": "3d33f2b5",
   "metadata": {
    "papermill": {
     "duration": 0.134367,
     "end_time": "2022-05-26T20:26:26.846663",
     "exception": false,
     "start_time": "2022-05-26T20:26:26.712296",
     "status": "completed"
    },
    "tags": []
   },
   "outputs": [],
   "source": [
    "\n"
   ]
  },
  {
   "cell_type": "code",
   "execution_count": 50,
   "id": "26ca0480",
   "metadata": {
    "execution": {
     "iopub.execute_input": "2022-05-26T20:26:27.118077Z",
     "iopub.status.busy": "2022-05-26T20:26:27.117045Z",
     "iopub.status.idle": "2022-05-26T20:26:27.519874Z",
     "shell.execute_reply": "2022-05-26T20:26:27.518991Z"
    },
    "papermill": {
     "duration": 0.541078,
     "end_time": "2022-05-26T20:26:27.522183",
     "exception": false,
     "start_time": "2022-05-26T20:26:26.981105",
     "status": "completed"
    },
    "tags": []
   },
   "outputs": [],
   "source": [
    "from sklearn.model_selection import train_test_split\n",
    "from sklearn.linear_model import LinearRegression\n",
    "from sklearn.linear_model import LassoCV,RidgeCV\n",
    "from sklearn.neighbors import KNeighborsRegressor\n",
    "from sklearn.svm import SVR\n",
    "from sklearn.tree import DecisionTreeRegressor\n",
    "from sklearn.ensemble import RandomForestRegressor , AdaBoostRegressor ,GradientBoostingRegressor \n",
    "from xgboost import XGBRegressor\n",
    "from sklearn.neural_network import MLPRegressor\n",
    "from sklearn.preprocessing import StandardScaler,MinMaxScaler\n",
    "from sklearn.metrics import r2_score,mean_squared_error,mean_absolute_error\n",
    "from xgboost import XGBRegressor"
   ]
  },
  {
   "cell_type": "code",
   "execution_count": 51,
   "id": "ed9ce59b",
   "metadata": {
    "execution": {
     "iopub.execute_input": "2022-05-26T20:26:27.792884Z",
     "iopub.status.busy": "2022-05-26T20:26:27.792602Z",
     "iopub.status.idle": "2022-05-26T20:26:27.798570Z",
     "shell.execute_reply": "2022-05-26T20:26:27.797791Z"
    },
    "papermill": {
     "duration": 0.143825,
     "end_time": "2022-05-26T20:26:27.800482",
     "exception": false,
     "start_time": "2022-05-26T20:26:27.656657",
     "status": "completed"
    },
    "tags": []
   },
   "outputs": [],
   "source": [
    "X=df.drop(\"price\", axis=1)\n",
    "y=df[\"price\"]"
   ]
  },
  {
   "cell_type": "code",
   "execution_count": 52,
   "id": "d4adc295",
   "metadata": {
    "execution": {
     "iopub.execute_input": "2022-05-26T20:26:28.073807Z",
     "iopub.status.busy": "2022-05-26T20:26:28.073500Z",
     "iopub.status.idle": "2022-05-26T20:26:28.101273Z",
     "shell.execute_reply": "2022-05-26T20:26:28.100268Z"
    },
    "papermill": {
     "duration": 0.167268,
     "end_time": "2022-05-26T20:26:28.103564",
     "exception": false,
     "start_time": "2022-05-26T20:26:27.936296",
     "status": "completed"
    },
    "tags": []
   },
   "outputs": [],
   "source": [
    "#Encoding the categorical columns into numerical columns \n",
    "cat_col=[col for col in X if X[col].dtype==\"object\" ] #get the cat col\n",
    "X=pd.get_dummies(X,columns=cat_col,drop_first=True) #using pandas function\n",
    "\n",
    "#scaling all the columns \n",
    "sc=StandardScaler()\n",
    "X=sc.fit_transform(X)\n",
    "X=pd.DataFrame(X)"
   ]
  },
  {
   "cell_type": "code",
   "execution_count": 53,
   "id": "3dcc30fb",
   "metadata": {
    "execution": {
     "iopub.execute_input": "2022-05-26T20:26:28.373434Z",
     "iopub.status.busy": "2022-05-26T20:26:28.373179Z",
     "iopub.status.idle": "2022-05-26T20:26:28.378745Z",
     "shell.execute_reply": "2022-05-26T20:26:28.378164Z"
    },
    "papermill": {
     "duration": 0.142201,
     "end_time": "2022-05-26T20:26:28.380458",
     "exception": false,
     "start_time": "2022-05-26T20:26:28.238257",
     "status": "completed"
    },
    "tags": []
   },
   "outputs": [],
   "source": [
    "X_train,X_test,y_train,y_test= train_test_split(X,y,random_state=42,test_size=0.2)"
   ]
  },
  {
   "cell_type": "code",
   "execution_count": 54,
   "id": "7a561984",
   "metadata": {
    "execution": {
     "iopub.execute_input": "2022-05-26T20:26:28.650688Z",
     "iopub.status.busy": "2022-05-26T20:26:28.650369Z",
     "iopub.status.idle": "2022-05-26T20:26:28.657725Z",
     "shell.execute_reply": "2022-05-26T20:26:28.656413Z"
    },
    "papermill": {
     "duration": 0.144857,
     "end_time": "2022-05-26T20:26:28.659758",
     "exception": false,
     "start_time": "2022-05-26T20:26:28.514901",
     "status": "completed"
    },
    "tags": []
   },
   "outputs": [
    {
     "name": "stdout",
     "output_type": "stream",
     "text": [
      "X_train shape:  (164, 196)\n",
      "X_test shape:  (41, 196)\n",
      "Y_train shape:  (164,)\n",
      "Y_test shape:  (41,)\n"
     ]
    }
   ],
   "source": [
    "print(\"X_train shape: \",X_train.shape)\n",
    "print(\"X_test shape: \",X_test.shape)\n",
    "print(\"Y_train shape: \",y_train.shape)\n",
    "print(\"Y_test shape: \",y_test.shape)"
   ]
  },
  {
   "cell_type": "code",
   "execution_count": null,
   "id": "de78eb13",
   "metadata": {
    "papermill": {
     "duration": 0.133994,
     "end_time": "2022-05-26T20:26:28.927757",
     "exception": false,
     "start_time": "2022-05-26T20:26:28.793763",
     "status": "completed"
    },
    "tags": []
   },
   "outputs": [],
   "source": []
  },
  {
   "cell_type": "code",
   "execution_count": 55,
   "id": "eae4ba27",
   "metadata": {
    "execution": {
     "iopub.execute_input": "2022-05-26T20:26:29.200495Z",
     "iopub.status.busy": "2022-05-26T20:26:29.200191Z",
     "iopub.status.idle": "2022-05-26T20:26:29.206185Z",
     "shell.execute_reply": "2022-05-26T20:26:29.205547Z"
    },
    "papermill": {
     "duration": 0.142695,
     "end_time": "2022-05-26T20:26:29.207924",
     "exception": false,
     "start_time": "2022-05-26T20:26:29.065229",
     "status": "completed"
    },
    "tags": []
   },
   "outputs": [],
   "source": [
    "#evaluate and disply the performance of models\n",
    "def evaluate(model):\n",
    "    model.fit(X_train,y_train)\n",
    "    y_pred=model.predict(X_test) \n",
    "    \n",
    "   \n",
    "    \n",
    "    #printing the model name and accuracy !!!!!\n",
    "    print(\"Model name: \",model)\n",
    "    print(\"Model score : \"+str(model.score(X_test, y_test) * 100))\n",
    "    print(\"R2 score : \",r2_score(y_test,y_pred))\n",
    "    print(\"MSE : \",mean_squared_error(y_test,y_pred))\n",
    "    print(\"MAE : \",mean_absolute_error(y_test,y_pred))\n",
    "    print(\"-------------------------------------------------------------\")"
   ]
  },
  {
   "cell_type": "code",
   "execution_count": 56,
   "id": "cb85cc88",
   "metadata": {
    "execution": {
     "iopub.execute_input": "2022-05-26T20:26:29.481024Z",
     "iopub.status.busy": "2022-05-26T20:26:29.480264Z",
     "iopub.status.idle": "2022-05-26T20:26:30.762567Z",
     "shell.execute_reply": "2022-05-26T20:26:30.761666Z"
    },
    "papermill": {
     "duration": 1.422527,
     "end_time": "2022-05-26T20:26:30.765702",
     "exception": false,
     "start_time": "2022-05-26T20:26:29.343175",
     "status": "completed"
    },
    "tags": []
   },
   "outputs": [
    {
     "name": "stdout",
     "output_type": "stream",
     "text": [
      "Model name:  LinearRegression()\n",
      "Model score : -3.559341967815318e+27\n",
      "R2 score :  -3.5593419678153175e+25\n",
      "MSE :  2.809887666250543e+33\n",
      "MAE :  2.8438735256258296e+16\n",
      "-------------------------------------------------------------\n",
      "Model name:  LassoCV()\n",
      "Model score : 88.60426860013972\n",
      "R2 score :  0.8860426860013972\n",
      "MSE :  8996248.5756954\n",
      "MAE :  1833.5988380386002\n",
      "-------------------------------------------------------------\n",
      "Model name:  RidgeCV(alphas=array([ 0.1,  1. , 10. ]))\n",
      "Model score : 83.15574340996118\n",
      "R2 score :  0.8315574340996117\n",
      "MSE :  13297533.439463371\n",
      "MAE :  2154.842788724075\n",
      "-------------------------------------------------------------\n",
      "Model name:  KNeighborsRegressor()\n",
      "Model score : 11.338293028488488\n",
      "R2 score :  0.11338293028488489\n",
      "MSE :  69993116.46385095\n",
      "MAE :  4366.928463414633\n",
      "-------------------------------------------------------------\n",
      "Model name:  SVR()\n",
      "Model score : -10.214083045873657\n",
      "R2 score :  -0.10214083045873656\n",
      "MSE :  87007428.73205775\n",
      "MAE :  5707.453806383573\n",
      "-------------------------------------------------------------\n",
      "Model name:  DecisionTreeRegressor()\n",
      "Model score : 83.90703205589799\n",
      "R2 score :  0.8390703205589798\n",
      "MSE :  12704435.973948512\n",
      "MAE :  2281.2723658536584\n",
      "-------------------------------------------------------------\n"
     ]
    }
   ],
   "source": [
    "#Initialize the models \n",
    "lr=LinearRegression() #Linear regressor\n",
    "lasso=LassoCV() #Lasso regression\n",
    "R=RidgeCV() #Ridge regression\n",
    "knn=KNeighborsRegressor() \n",
    "svr=SVR() # support vector regressor\n",
    "dtr=DecisionTreeRegressor()\n",
    "\n",
    "models=[lr,lasso,R,knn,svr,dtr] #create a list of models \n",
    "\n",
    "for model in models:\n",
    "    evaluate(model)\n",
    "    \n"
   ]
  },
  {
   "cell_type": "code",
   "execution_count": null,
   "id": "e78627c3",
   "metadata": {
    "papermill": {
     "duration": 0.134604,
     "end_time": "2022-05-26T20:26:31.046477",
     "exception": false,
     "start_time": "2022-05-26T20:26:30.911873",
     "status": "completed"
    },
    "tags": []
   },
   "outputs": [],
   "source": []
  },
  {
   "cell_type": "code",
   "execution_count": null,
   "id": "2b865b8d",
   "metadata": {
    "papermill": {
     "duration": 0.136987,
     "end_time": "2022-05-26T20:26:31.330962",
     "exception": false,
     "start_time": "2022-05-26T20:26:31.193975",
     "status": "completed"
    },
    "tags": []
   },
   "outputs": [],
   "source": []
  },
  {
   "cell_type": "code",
   "execution_count": 57,
   "id": "93fab5f6",
   "metadata": {
    "execution": {
     "iopub.execute_input": "2022-05-26T20:26:31.602237Z",
     "iopub.status.busy": "2022-05-26T20:26:31.601912Z",
     "iopub.status.idle": "2022-05-26T20:26:32.815021Z",
     "shell.execute_reply": "2022-05-26T20:26:32.814385Z"
    },
    "papermill": {
     "duration": 1.352308,
     "end_time": "2022-05-26T20:26:32.817799",
     "exception": false,
     "start_time": "2022-05-26T20:26:31.465491",
     "status": "completed"
    },
    "tags": []
   },
   "outputs": [
    {
     "name": "stdout",
     "output_type": "stream",
     "text": [
      "Model name:  RandomForestRegressor(n_estimators=200, random_state=42)\n",
      "Model score : 94.48041476255838\n",
      "R2 score :  0.9448041476255838\n",
      "MSE :  4357382.522316413\n",
      "MAE :  1446.3518734030197\n",
      "-------------------------------------------------------------\n",
      "Model name:  AdaBoostRegressor(random_state=42)\n",
      "Model score : 89.63006069578609\n",
      "R2 score :  0.8963006069578608\n",
      "MSE :  8186447.049526463\n",
      "MAE :  2204.311981688892\n",
      "-------------------------------------------------------------\n",
      "Model name:  GradientBoostingRegressor(random_state=42)\n",
      "Model score : 90.62775610890145\n",
      "R2 score :  0.9062775610890145\n",
      "MSE :  7398826.174281279\n",
      "MAE :  1823.9204132048603\n",
      "-------------------------------------------------------------\n",
      "Model name:  XGBRegressor(base_score=0.5, booster='gbtree', callbacks=None,\n",
      "             colsample_bylevel=1, colsample_bynode=1, colsample_bytree=1,\n",
      "             early_stopping_rounds=None, enable_categorical=False,\n",
      "             eval_metric=None, gamma=0, gpu_id=-1, grow_policy='depthwise',\n",
      "             importance_type=None, interaction_constraints='',\n",
      "             learning_rate=0.300000012, max_bin=256, max_cat_to_onehot=4,\n",
      "             max_delta_step=0, max_depth=6, max_leaves=0, min_child_weight=1,\n",
      "             missing=nan, monotone_constraints='()', n_estimators=100, n_jobs=0,\n",
      "             num_parallel_tree=1, predictor='auto', random_state=0, reg_alpha=0,\n",
      "             reg_lambda=1, ...)\n",
      "Model score : 89.73253706593704\n",
      "R2 score :  0.8973253706593703\n",
      "MSE :  8105548.082477782\n",
      "MAE :  1906.0332505716462\n",
      "-------------------------------------------------------------\n"
     ]
    }
   ],
   "source": [
    "# lets apply our Ensamble models on this data\n",
    "rf=RandomForestRegressor(n_estimators=200,random_state=42)\n",
    "ada=AdaBoostRegressor(random_state=42)\n",
    "gbr=GradientBoostingRegressor(random_state=42)\n",
    "xgb=XGBRegressor()\n",
    "\n",
    "modls=[rf,ada,gbr,xgb] #list of ensamble models \n",
    "for model in modls:\n",
    "    evaluate(model)\n",
    "    \n"
   ]
  },
  {
   "cell_type": "code",
   "execution_count": null,
   "id": "ca199496",
   "metadata": {
    "papermill": {
     "duration": 0.136086,
     "end_time": "2022-05-26T20:26:33.094746",
     "exception": false,
     "start_time": "2022-05-26T20:26:32.958660",
     "status": "completed"
    },
    "tags": []
   },
   "outputs": [],
   "source": []
  }
 ],
 "metadata": {
  "kernelspec": {
   "display_name": "Python 3",
   "language": "python",
   "name": "python3"
  },
  "language_info": {
   "codemirror_mode": {
    "name": "ipython",
    "version": 3
   },
   "file_extension": ".py",
   "mimetype": "text/x-python",
   "name": "python",
   "nbconvert_exporter": "python",
   "pygments_lexer": "ipython3",
   "version": "3.7.12"
  },
  "papermill": {
   "default_parameters": {},
   "duration": 61.898158,
   "end_time": "2022-05-26T20:26:34.252501",
   "environment_variables": {},
   "exception": null,
   "input_path": "__notebook__.ipynb",
   "output_path": "__notebook__.ipynb",
   "parameters": {},
   "start_time": "2022-05-26T20:25:32.354343",
   "version": "2.3.4"
  }
 },
 "nbformat": 4,
 "nbformat_minor": 5
}
